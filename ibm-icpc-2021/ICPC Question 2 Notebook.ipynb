{
 "cells": [
  {
   "cell_type": "markdown",
   "metadata": {},
   "source": [
    "# 2. Compute the popcount function for n(large number of inputs) qubits\n",
    "Compute the popcount function for n = 15 qubits. \n",
    "<h3>\n",
    "$$|x,0,0\\rangle \\mapsto e^{i\\theta(x)}|x,\\text{Popcount}(x),0\\rangle$$"
   ]
  },
  {
   "cell_type": "markdown",
   "metadata": {},
   "source": [
    "## a) Circuit for n = 15 Popcount function"
   ]
  },
  {
   "cell_type": "code",
   "execution_count": null,
   "metadata": {},
   "outputs": [],
   "source": [
    "!pip install -I git+https://github.com/qiskit-community/Quantum-Challenge-Grader.git"
   ]
  },
  {
   "cell_type": "code",
   "execution_count": 1,
   "metadata": {},
   "outputs": [],
   "source": [
    "# Importing the qiskit module\n",
    "from qiskit import *\n",
    "import numpy as np\n",
    "\n",
    "# Defining input, output and scratch qubits\n",
    "x15 = 15   # number of input qubits\n",
    "y15 = 4   # number of output qubit \n",
    "s15 = 0   # number of scratch qubit\n",
    "\n",
    "# Defining Quantum Circuit with the given circuits\n",
    "def Circuit_15(In,Ou,Sc):\n",
    "    if Sc != 0:\n",
    "        # initiating required qubits\n",
    "        X = QuantumRegister(In, 'input') \n",
    "        Y= QuantumRegister(Ou, 'output') \n",
    "        S = QuantumRegister(Sc, 'scratch')  \n",
    "        \n",
    "        # creating circuit with above qubits\n",
    "        Circ = QuantumCircuit(X,Y,S)\n",
    "    else:\n",
    "        \n",
    "        # initiating required qubits\n",
    "        X = QuantumRegister(In, 'input') \n",
    "        Y= QuantumRegister(Ou, 'output') \n",
    "        \n",
    "        # creating circuit with above qubits\n",
    "        Circ = QuantumCircuit(X,Y)\n",
    "    \n",
    "    ##### Create you circuit below #########\n",
    "       \n",
    "    #QFT\n",
    "    Circ.h(Y[0])\n",
    "    Circ.h(Y[1])\n",
    "    Circ.h(Y[2])\n",
    "    Circ.h(Y[3])\n",
    "    #Evaluate based on X0..X14\n",
    "    for i in range(15):\n",
    "        Circ.cp(np.pi/8, X[i], Y[3])\n",
    "        Circ.cp(np.pi/4, X[i], Y[2])\n",
    "        Circ.cp(np.pi/2, X[i], Y[1])\n",
    "        Circ.cp(np.pi, X[i], Y[0])\n",
    "        #Circ.barrier()            \n",
    "    #QFT-Dagger\n",
    "    Circ.h(Y[0])\n",
    "    Circ.cp(-np.pi/2, Y[0], Y[1])\n",
    "    Circ.h(Y[1])\n",
    "    Circ.cp(-np.pi/4, Y[0], Y[2])\n",
    "    Circ.cp(-np.pi/2, Y[1], Y[2])\n",
    "    Circ.h(Y[2])\n",
    "    Circ.cp(-np.pi/8, Y[0], Y[3])\n",
    "    Circ.cp(-np.pi/4, Y[1], Y[3])\n",
    "    Circ.cp(-np.pi/2, Y[2], Y[3])\n",
    "    Circ.h(Y[3])      \n",
    "    \n",
    "    ########################################\n",
    "    \n",
    "    # Uncomment to draw quantum circuit\n",
    "    #display(Circ.draw('mpl'))\n",
    "    \n",
    "    # Transpiling the circuit into u, cnot\n",
    "    Circ = transpile(Circ, basis_gates=['u3','cx'],optimization_level=3)\n",
    "    \n",
    "    # Uncomment to draw transpiled circuit\n",
    "    #     display(Circ.draw('mpl'))\n",
    "    \n",
    "    return Circ\n",
    "\n",
    "qc_2a = Circuit_15(x15,y15,s15)"
   ]
  },
  {
   "cell_type": "markdown",
   "metadata": {},
   "source": [
    "### Grader"
   ]
  },
  {
   "cell_type": "code",
   "execution_count": 2,
   "metadata": {},
   "outputs": [
    {
     "name": "stdout",
     "output_type": "stream",
     "text": [
      "Grading your answer for ex2/partA. Please wait...\n",
      "\n",
      "Congratulations 🎉! Your answer is correct.\n",
      "Your cost is 162.\n",
      "Feel free to submit your answer.\n",
      "\n"
     ]
    }
   ],
   "source": [
    "from qc_grader import grade_ex2a\n",
    "\n",
    "grade_ex2a(qc_2a)"
   ]
  },
  {
   "cell_type": "markdown",
   "metadata": {},
   "source": [
    "## b) Circuit for n = 16 Popcount function"
   ]
  },
  {
   "cell_type": "code",
   "execution_count": 8,
   "metadata": {},
   "outputs": [],
   "source": [
    "# Importing the qiskit module\n",
    "from qiskit import *\n",
    "\n",
    "# Defining input, output and scratch qubits\n",
    "x16 =  16  # number of input qubits\n",
    "y16 =  5  # number of output qubit \n",
    "s16 =  0  # number of scratch qubit\n",
    "\n",
    "# Defining Quantum Circuit with the given circuits\n",
    "def Circuit_16(In,Ou,Sc):\n",
    "    if Sc != 0:\n",
    "        # initiating required qubits\n",
    "        X = QuantumRegister(In, 'input') \n",
    "        Y= QuantumRegister(Ou, 'output') \n",
    "        S = QuantumRegister(Sc, 'scratch')  \n",
    "        # creating circuit with above qubits\n",
    "        Circ = QuantumCircuit(X,Y,S)\n",
    "    else:\n",
    "        \n",
    "        # initiating required qubits\n",
    "        X = QuantumRegister(In, 'input') \n",
    "        Y= QuantumRegister(Ou, 'output') \n",
    "        # creating circuit with above qubits\n",
    "        Circ = QuantumCircuit(X,Y)\n",
    "    \n",
    "    ##### Create you circuit below #########\n",
    "    \n",
    "    #QFT\n",
    "    Circ.h(Y[0])\n",
    "    Circ.h(Y[1])\n",
    "    Circ.h(Y[2])\n",
    "    Circ.h(Y[3])\n",
    "    Circ.h(Y[4])\n",
    "    #Evaluate based on X0..X15\n",
    "    for i in range(16):\n",
    "        Circ.cp(np.pi/16, X[i], Y[4])\n",
    "        Circ.cp(np.pi/8, X[i], Y[3])\n",
    "        Circ.cp(np.pi/4, X[i], Y[2])\n",
    "        Circ.cp(np.pi/2, X[i], Y[1])\n",
    "        Circ.cp(np.pi, X[i], Y[0])      \n",
    "    #QFT-Dagger\n",
    "    Circ.h(Y[0])\n",
    "    Circ.cp(-np.pi/2, Y[0], Y[1])\n",
    "    Circ.h(Y[1])\n",
    "    Circ.cp(-np.pi/4, Y[0], Y[2])\n",
    "    Circ.cp(-np.pi/2, Y[1], Y[2])\n",
    "    Circ.h(Y[2])\n",
    "    Circ.cp(-np.pi/8, Y[0], Y[3])\n",
    "    Circ.cp(-np.pi/4, Y[1], Y[3])\n",
    "    Circ.cp(-np.pi/2, Y[2], Y[3])\n",
    "    Circ.h(Y[3])\n",
    "    Circ.cp(-np.pi/16, Y[0], Y[4])\n",
    "    Circ.cp(-np.pi/8, Y[1], Y[4])\n",
    "    Circ.cp(-np.pi/4, Y[2], Y[4])\n",
    "    Circ.cp(-np.pi/2, Y[3], Y[4])\n",
    "    Circ.h(Y[4]) \n",
    "    \n",
    "    ########################################\n",
    "    \n",
    "    # Uncomment to draw quantum circuit\n",
    "#     display(Circ.draw('mpl'))\n",
    "    \n",
    "    # Transpiling the circuit into u, cnot\n",
    "    Circ = transpile(Circ, basis_gates=['u3','cx'],optimization_level=3)\n",
    "    \n",
    "    # Uncomment to draw transpiled circuit\n",
    "#     display(Circ.draw('mpl'))\n",
    "    \n",
    "    return Circ\n",
    "\n",
    "qc_2b = Circuit_16(x16,y16,s16)"
   ]
  },
  {
   "cell_type": "markdown",
   "metadata": {},
   "source": [
    "### Grader "
   ]
  },
  {
   "cell_type": "code",
   "execution_count": 9,
   "metadata": {},
   "outputs": [
    {
     "name": "stdout",
     "output_type": "stream",
     "text": [
      "Grading your answer for ex2/partB. Please wait...\n",
      "\n",
      "Congratulations 🎉! Your answer is correct.\n",
      "Your cost is 217.\n",
      "Feel free to submit your answer.\n",
      "\n"
     ]
    }
   ],
   "source": [
    "from qc_grader import grade_ex2b\n",
    "\n",
    "grade_ex2b(qc_2b)"
   ]
  },
  {
   "cell_type": "markdown",
   "metadata": {},
   "source": [
    "# Circuit verification and Cost Metric\n",
    "\n",
    "$\\textbf{Costing metric:}$ Circuit implementation cost is computed as follows, \n",
    "$$\\text{Cost} = G+D+\\frac{nS}{2},$$ \n",
    "where $G$ is the number of $\\text{CNOT}$ gates used (note how the single-qubit gates are \"free\", which takes into account their relatively small implementation cost), $D$ is the two-qubit circuit depth (defined as the maximum length of the shortest path from any starting qubit to any ending qubit in the circuit going left, up, or down along the lines in the circuit diagram and counting the number of two-qubit gates), and $S$ is the number of scratch qubits used.  The timeout for verification is set to $5$ minutes.  All implementations that time out or compute any of the popcount outputs incorrectly are assigned the score of ${+}\\infty$; the implementation with the smallest value of $\\text{Cost}$ wins."
   ]
  },
  {
   "cell_type": "markdown",
   "metadata": {},
   "source": [
    "### Submission for evaluation "
   ]
  },
  {
   "cell_type": "code",
   "execution_count": 5,
   "metadata": {},
   "outputs": [
    {
     "name": "stdout",
     "output_type": "stream",
     "text": [
      "Submitting your answer for ex2/partA. Please wait...\n",
      "Success 🎉! Your answer has been submitted.\n",
      "Submitting your answer for ex2/partB. Please wait...\n",
      "Success 🎉! Your answer has been submitted.\n"
     ]
    }
   ],
   "source": [
    "## Uncomment and run the following code to submit\n",
    "\n",
    "from qc_grader import submit_ex2a, submit_ex2b\n",
    "\n",
    "submit_ex2a(qc_2a)  #To submit exercise 2a\n",
    "\n",
    "submit_ex2b(qc_2b)  #To submit exercise 2b"
   ]
  },
  {
   "cell_type": "code",
   "execution_count": null,
   "metadata": {},
   "outputs": [],
   "source": []
  }
 ],
 "metadata": {
  "kernelspec": {
   "display_name": "Python 3",
   "language": "python",
   "name": "python3"
  },
  "language_info": {
   "codemirror_mode": {
    "name": "ipython",
    "version": 3
   },
   "file_extension": ".py",
   "mimetype": "text/x-python",
   "name": "python",
   "nbconvert_exporter": "python",
   "pygments_lexer": "ipython3",
   "version": "3.8.6"
  }
 },
 "nbformat": 4,
 "nbformat_minor": 4
}
