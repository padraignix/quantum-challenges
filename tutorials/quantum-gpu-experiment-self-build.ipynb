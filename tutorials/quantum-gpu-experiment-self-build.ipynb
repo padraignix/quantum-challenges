{
 "cells": [
  {
   "cell_type": "code",
   "execution_count": 1,
   "metadata": {},
   "outputs": [
    {
     "name": "stdout",
     "output_type": "stream",
     "text": [
      "Kernel:\n",
      "Linux padraig-cuda 5.13.0-39-generic #44~20.04.1-Ubuntu SMP Thu Mar 24 16:43:35 UTC 2022 x86_64 x86_64 x86_64 GNU/Linux\n",
      "\n",
      "Nvidia Driver Version:\n",
      "| NVIDIA-SMI 510.47.03    Driver Version: 510.47.03    CUDA Version: 11.6     |\n",
      "\n",
      "CUDA Version:\n",
      "nvcc: NVIDIA (R) Cuda compiler driver\n",
      "Copyright (c) 2005-2022 NVIDIA Corporation\n",
      "Built on Tue_Mar__8_18:18:20_PST_2022\n",
      "Cuda compilation tools, release 11.6, V11.6.124\n",
      "Build cuda_11.6.r11.6/compiler.31057947_0\n",
      "\n",
      "Conda Environment:\n",
      "     active environment : quantum38\n",
      "\n",
      "Python Version:\n",
      "Python 3.8.13\n",
      "\n",
      "Qiskit/cuQuantum Version:\n",
      "cuquantum                     22.3.0\n",
      "cuquantum-python              22.3.0\n",
      "qiskit                        0.36.0\n",
      "qiskit-aer                    0.11.0\n",
      "qiskit-ibmq-provider          0.19.0\n",
      "qiskit-ignis                  0.7.0\n",
      "qiskit-terra                  0.20.0\n"
     ]
    }
   ],
   "source": [
    "print(\"Kernel:\")\n",
    "!uname -a\n",
    "\n",
    "print(\"\\nNvidia Driver Version:\")\n",
    "!nvidia-smi | grep Driver\n",
    "\n",
    "print(\"\\nCUDA Version:\")\n",
    "!/usr/local/cuda-11.6/bin/nvcc --version\n",
    "\n",
    "print(\"\\nConda Environment:\")\n",
    "!conda info | grep \"active environment\"\n",
    "\n",
    "print(\"\\nPython Version:\")\n",
    "!python --version\n",
    "\n",
    "print(\"\\nQiskit/cuQuantum Version:\")\n",
    "!pip list | egrep 'qiskit|cuquantum'"
   ]
  },
  {
   "cell_type": "code",
   "execution_count": 2,
   "metadata": {},
   "outputs": [],
   "source": [
    "import numpy as np\n",
    "\n",
    "# Import Qiskit\n",
    "from qiskit import QuantumCircuit\n",
    "from qiskit import Aer, transpile\n",
    "from qiskit.tools.visualization import plot_histogram, plot_state_city\n",
    "import qiskit.quantum_info as qi\n",
    "\n"
   ]
  },
  {
   "cell_type": "code",
   "execution_count": 3,
   "metadata": {},
   "outputs": [
    {
     "data": {
      "text/plain": [
       "[AerSimulator('aer_simulator'),\n",
       " AerSimulator('aer_simulator_statevector'),\n",
       " AerSimulator('aer_simulator_statevector_gpu'),\n",
       " AerSimulator('aer_simulator_density_matrix'),\n",
       " AerSimulator('aer_simulator_density_matrix_gpu'),\n",
       " AerSimulator('aer_simulator_stabilizer'),\n",
       " AerSimulator('aer_simulator_matrix_product_state'),\n",
       " AerSimulator('aer_simulator_extended_stabilizer'),\n",
       " AerSimulator('aer_simulator_unitary'),\n",
       " AerSimulator('aer_simulator_unitary_gpu'),\n",
       " AerSimulator('aer_simulator_superop'),\n",
       " QasmSimulator('qasm_simulator'),\n",
       " StatevectorSimulator('statevector_simulator'),\n",
       " UnitarySimulator('unitary_simulator'),\n",
       " PulseSimulator('pulse_simulator')]"
      ]
     },
     "execution_count": 3,
     "metadata": {},
     "output_type": "execute_result"
    }
   ],
   "source": [
    "Aer.backends()"
   ]
  },
  {
   "cell_type": "code",
   "execution_count": 12,
   "metadata": {},
   "outputs": [
    {
     "name": "stdout",
     "output_type": "stream",
     "text": [
      "cuStateVector is used for the simulation\n",
      "15 qubits, Time = 0.003253731 sec\n",
      "aer_simulator_statevector_gpu\n",
      "{'000000000000000': 10}\n"
     ]
    }
   ],
   "source": [
    "from qiskit import *\n",
    "from qiskit.circuit.library import *\n",
    "from qiskit.providers.aer import *\n",
    "\n",
    "sim = AerSimulator(method='statevector', device='GPU',cuStateVec_enable=True) \n",
    "\n",
    "qubits = 15\n",
    "depth=10\n",
    "shots = 10\n",
    "\n",
    "circuit = QuantumVolume(qubits, depth, seed=0)\n",
    "circuit.measure_all()\n",
    "circuit = transpile(circuit, sim)\n",
    "result = sim.run(circuit,sim,shots=shots,seed_simulator=12345).result()\n",
    "\n",
    "metadata = result.to_dict()['results'][0]['metadata']\n",
    "if 'cuStateVec_enable' in metadata and metadata['cuStateVec_enable']:\n",
    "    print(\"cuStateVector is used for the simulation\")\n",
    "print(\"{0} qubits, Time = {1} sec\".format(qubits,result.to_dict()['results'][0]['time_taken']))\n",
    "counts = result.get_counts()\n",
    "print(sim)\n",
    "print(counts)"
   ]
  },
  {
   "cell_type": "code",
   "execution_count": 6,
   "metadata": {},
   "outputs": [
    {
     "name": "stdout",
     "output_type": "stream",
     "text": [
      "15 qubits, Time = 0.027838836 sec\n",
      "aer_simulator_statevector\n",
      "{'011010000111101': 1, '100101001000001': 1, '101100010110011': 1, '011110101110001': 1, '000001110000100': 1, '001101110000100': 1, '101100010101010': 1, '010111001000001': 1, '100100010100111': 1, '001101110011000': 1}\n"
     ]
    }
   ],
   "source": [
    "from qiskit import *\n",
    "from qiskit.circuit.library import *\n",
    "from qiskit.providers.aer import *\n",
    "\n",
    "sim = AerSimulator(method='statevector', device='CPU', cuStateVec_enable=False)\n",
    "\n",
    "qubits = 15\n",
    "depth=10\n",
    "shots = 10\n",
    "\n",
    "circuit = QuantumVolume(qubits, depth, seed=0)\n",
    "circuit.measure_all()\n",
    "circuit = transpile(circuit, sim)\n",
    "result = sim.run(circuit,sim,shots=shots,seed_simulator=12345).result()\n",
    "\n",
    "metadata = result.to_dict()['results'][0]['metadata']\n",
    "if 'cuStateVec_enable' in metadata and metadata['cuStateVec_enable']:\n",
    "    print(\"cuStateVector is used for the simulation\")\n",
    "print(\"{0} qubits, Time = {1} sec\".format(qubits,result.to_dict()['results'][0]['time_taken']))\n",
    "counts = result.get_counts()\n",
    "print(sim)\n",
    "print(counts)"
   ]
  },
  {
   "cell_type": "code",
   "execution_count": 14,
   "metadata": {},
   "outputs": [
    {
     "name": "stdout",
     "output_type": "stream",
     "text": [
      "15 qubits, Time = 0.002181485 sec\n",
      "{'011010000111101': 1, '100101001000001': 1, '101100010110011': 1, '011110101110001': 1, '000001110000100': 1, '001101110000100': 1, '101100010101010': 1, '010111001000001': 1, '100100010100111': 1, '001101110011000': 1}\n"
     ]
    }
   ],
   "source": [
    "from qiskit import *\n",
    "from qiskit.circuit.library import *\n",
    "from qiskit.providers.aer import *\n",
    "\n",
    "sim = AerSimulator(method='statevector', device='GPU', cuStateVec_enable=False)\n",
    "\n",
    "qubits = 15\n",
    "depth=10\n",
    "shots = 10\n",
    "\n",
    "circuit = QuantumVolume(qubits, depth, seed=0)\n",
    "circuit.measure_all()\n",
    "circuit = transpile(circuit, sim)\n",
    "result = sim.run(circuit,sim,shots=shots,seed_simulator=12345).result()\n",
    "\n",
    "metadata = result.to_dict()['results'][0]['metadata']\n",
    "if 'cuStateVec_enable' in metadata and metadata['cuStateVec_enable']:\n",
    "    print(\"cuStateVector is used for the simulation\")\n",
    "print(\"{0} qubits, Time = {1} sec\".format(qubits,result.to_dict()['results'][0]['time_taken']))\n",
    "counts = result.get_counts()\n",
    "print(counts)"
   ]
  },
  {
   "cell_type": "code",
   "execution_count": 16,
   "metadata": {},
   "outputs": [
    {
     "data": {
      "text/plain": [
       "Text(0, 0.5, 'Simulation time (s)')"
      ]
     },
     "execution_count": 16,
     "metadata": {},
     "output_type": "execute_result"
    },
    {
     "data": {
      "image/png": "[encoded data removed]",
      "text/plain": [
       "<Figure size 432x288 with 1 Axes>"
      ]
     },
     "metadata": {
      "needs_background": "light"
     },
     "output_type": "display_data"
    }
   ],
   "source": [
    "from qiskit import *\n",
    "from qiskit.circuit.library import *\n",
    "from qiskit.providers.aer import *\n",
    "import matplotlib.pyplot as plt\n",
    "\n",
    "sim = AerSimulator(method='statevector', device='GPU')\n",
    "sim_cpu = AerSimulator(method='statevector', device='CPU')\n",
    "\n",
    "shots = 100\n",
    "depth=10\n",
    "\n",
    "time_thrust= []\n",
    "time_cuStateVec= []\n",
    "time_cpu= []\n",
    "qubits_list = []\n",
    "\n",
    "for qubits in range (15, 26):\n",
    "    qubits_list.append(qubits)\n",
    "    circuit = QuantumVolume(qubits, depth, seed=0)\n",
    "    circuit.measure_all()\n",
    "    circuit = transpile(circuit, sim)\n",
    "    result = sim.run(circuit,sim,shots=shots,seed_simulator=12345,fusion_threshold=20,cuStateVec_enable=False).result()\n",
    "    time_thrust.append(float(result.to_dict()['results'][0]['time_taken']))\n",
    "\n",
    "    result_cuStateVec = sim.run(circuit,sim,shots=shots,seed_simulator=12345,fusion_threshold=20,cuStateVec_enable=True).result()\n",
    "    time_cuStateVec.append(float(result_cuStateVec.to_dict()['results'][0]['time_taken']))\n",
    "\n",
    "    result_cpu = sim_cpu.run(circuit,sim_cpu,shots=shots,seed_simulator=12345,fusion_threshold=20).result()\n",
    "    time_cpu.append(float(result_cpu.to_dict()['results'][0]['time_taken']))\n",
    "\n",
    "plt.yscale(\"log\")\n",
    "plt.plot(qubits_list, time_thrust, marker=\"o\", label='GPU')\n",
    "plt.plot(qubits_list, time_cuStateVec, 'g', marker=\"x\", label='cuStateVec')\n",
    "plt.plot(qubits_list, time_cpu, marker=\"v\", label='CPU')\n",
    "plt.legend()\n",
    "plt.xlabel(\"# of qubits\")\n",
    "plt.ylabel(\"Simulation time (s)\")"
   ]
  },
  {
   "cell_type": "markdown",
   "metadata": {},
   "source": [
    "## AER\n",
    "https://developer.nvidia.com/cuda-downloads?target_os=Linux&target_arch=x86_64&Distribution=Ubuntu&target_version=20.04&target_type=deb_network\n",
    "\n",
    "https://docs.nvidia.com/cuda/cuda-toolkit-release-notes/index.html#cuda-major-component-versions__table-cuda-toolkit-driver-versions\n",
    "\n",
    "https://www.cyberciti.biz/faq/ubuntu-linux-install-nvidia-driver-latest-proprietary-driver/\n",
    "\n",
    "https://developer.nvidia.com/cuda-downloads?target_os=Linux&target_arch=x86_64&Distribution=Ubuntu&target_version=20.04&target_type=deb_local\n",
    "\n",
    "https://github.com/Qiskit/qiskit-aer/blob/main/CONTRIBUTING.md\n",
    "\n",
    "https://github.com/Qiskit/qiskit-aer/blob/c7bef3361c860083bd5982a168f0cee8194080da/src/controllers/aer_controller.hpp#L524\n",
    "\n",
    "\n",
    "-----\n",
    "\n",
    "https://github.com/Qiskit/qiskit-aer/blob/main/CONTRIBUTING.md#building-with-gpu-support\n",
    "\n",
    "qiskit-aer$ python ./setup.py bdist_wheel -- -DAER_THRUST_BACKEND=CUDA -DCUSTATEVEC_ROOT=path_to_cuQuantum"
   ]
  },
  {
   "cell_type": "markdown",
   "metadata": {},
   "source": [
    "## QSIM\n",
    "\n",
    "https://gitlab.kitware.com/cmake/cmake/-/issues/21302"
   ]
  },
  {
   "cell_type": "markdown",
   "metadata": {},
   "source": [
    "## Papers\n",
    "https://arxiv.org/pdf/2203.08826.pdf"
   ]
  }
 ],
 "metadata": {
  "interpreter": {
   "hash": "50ab07482aad3b05ad52e0fa506a03d06943cf0f8985c53a13981dbcaf969357"
  },
  "kernelspec": {
   "display_name": "Python 3.7.13 ('quantum')",
   "language": "python",
   "name": "python3"
  },
  "language_info": {
   "codemirror_mode": {
    "name": "ipython",
    "version": 3
   },
   "file_extension": ".py",
   "mimetype": "text/x-python",
   "name": "python",
   "nbconvert_exporter": "python",
   "pygments_lexer": "ipython3",
   "version": "3.8.13"
  },
  "orig_nbformat": 4
 },
 "nbformat": 4,
 "nbformat_minor": 2
}
