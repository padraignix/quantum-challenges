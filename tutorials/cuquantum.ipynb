{
 "cells": [
  {
   "cell_type": "markdown",
   "metadata": {},
   "source": [
    "### Qiskit Rust vs. Python Testing\n",
    "\n",
    "tbd"
   ]
  },
  {
   "cell_type": "code",
   "execution_count": null,
   "metadata": {},
   "outputs": [],
   "source": []
  },
  {
   "cell_type": "code",
   "execution_count": 6,
   "metadata": {},
   "outputs": [
    {
     "name": "stderr",
     "output_type": "stream",
     "text": [
      "Simulation failed and returned the following error message:\n",
      "ERROR: Failed to load qobj: Simulation device \"GPU\" is not supported on this system\n"
     ]
    },
    {
     "ename": "IndexError",
     "evalue": "list index out of range",
     "output_type": "error",
     "traceback": [
      "\u001b[1;31m---------------------------------------------------------------------------\u001b[0m",
      "\u001b[1;31mIndexError\u001b[0m                                Traceback (most recent call last)",
      "\u001b[1;32mc:\\Users\\padra\\OneDrive\\Documents\\GitHub\\quantum-challenges\\tutorials\\cuquantum.ipynb Cell 3'\u001b[0m in \u001b[0;36m<cell line: 10>\u001b[1;34m()\u001b[0m\n\u001b[0;32m     <a href='vscode-notebook-cell:/c%3A/Users/padra/OneDrive/Documents/GitHub/quantum-challenges/tutorials/cuquantum.ipynb#ch0000001?line=13'>14</a>\u001b[0m circuit \u001b[39m=\u001b[39m transpile(circuit, sim)\n\u001b[0;32m     <a href='vscode-notebook-cell:/c%3A/Users/padra/OneDrive/Documents/GitHub/quantum-challenges/tutorials/cuquantum.ipynb#ch0000001?line=14'>15</a>\u001b[0m result \u001b[39m=\u001b[39m sim\u001b[39m.\u001b[39mrun(circuit,sim,shots\u001b[39m=\u001b[39mshots,seed_simulator\u001b[39m=\u001b[39m\u001b[39m12345\u001b[39m,fusion_threshold\u001b[39m=\u001b[39m\u001b[39m20\u001b[39m,cuStateVec_enable\u001b[39m=\u001b[39m\u001b[39mFalse\u001b[39;00m)\u001b[39m.\u001b[39mresult()\n\u001b[1;32m---> <a href='vscode-notebook-cell:/c%3A/Users/padra/OneDrive/Documents/GitHub/quantum-challenges/tutorials/cuquantum.ipynb#ch0000001?line=15'>16</a>\u001b[0m time_thrust\u001b[39m.\u001b[39mappend(\u001b[39mfloat\u001b[39m(result\u001b[39m.\u001b[39;49mto_dict()[\u001b[39m'\u001b[39;49m\u001b[39mresults\u001b[39;49m\u001b[39m'\u001b[39;49m][\u001b[39m0\u001b[39;49m][\u001b[39m'\u001b[39m\u001b[39mtime_taken\u001b[39m\u001b[39m'\u001b[39m]))\n\u001b[0;32m     <a href='vscode-notebook-cell:/c%3A/Users/padra/OneDrive/Documents/GitHub/quantum-challenges/tutorials/cuquantum.ipynb#ch0000001?line=17'>18</a>\u001b[0m result_cuStateVec \u001b[39m=\u001b[39m sim\u001b[39m.\u001b[39mrun(circuit,sim,shots\u001b[39m=\u001b[39mshots,seed_simulator\u001b[39m=\u001b[39m\u001b[39m12345\u001b[39m,fusion_threshold\u001b[39m=\u001b[39m\u001b[39m20\u001b[39m,cuStateVec_enable\u001b[39m=\u001b[39m\u001b[39mTrue\u001b[39;00m)\u001b[39m.\u001b[39mresult()\n\u001b[0;32m     <a href='vscode-notebook-cell:/c%3A/Users/padra/OneDrive/Documents/GitHub/quantum-challenges/tutorials/cuquantum.ipynb#ch0000001?line=18'>19</a>\u001b[0m time_cuStateVec\u001b[39m.\u001b[39mappend(\u001b[39mfloat\u001b[39m(result_cuStateVec\u001b[39m.\u001b[39mto_dict()[\u001b[39m'\u001b[39m\u001b[39mresults\u001b[39m\u001b[39m'\u001b[39m][\u001b[39m0\u001b[39m][\u001b[39m'\u001b[39m\u001b[39mtime_taken\u001b[39m\u001b[39m'\u001b[39m]))\n",
      "\u001b[1;31mIndexError\u001b[0m: list index out of range"
     ]
    }
   ],
   "source": [
    "sim = AerSimulator(method='statevector', device='GPU')\n",
    "\n",
    "shots = 100\n",
    "depth=10\n",
    "\n",
    "time_thrust= []\n",
    "time_cuStateVec= []\n",
    "qubits_list = []\n",
    "\n",
    "for qubits in range (15, 26):\n",
    "    qubits_list.append(qubits)\n",
    "    circuit = QuantumVolume(qubits, depth, seed=0)\n",
    "    circuit.measure_all()\n",
    "    circuit = transpile(circuit, sim)\n",
    "    result = sim.run(circuit,sim,shots=shots,seed_simulator=12345,fusion_threshold=20,cuStateVec_enable=False).result()\n",
    "    time_thrust.append(float(result.to_dict()['results'][0]['time_taken']))\n",
    "\n",
    "    result_cuStateVec = sim.run(circuit,sim,shots=shots,seed_simulator=12345,fusion_threshold=20,cuStateVec_enable=True).result()\n",
    "    time_cuStateVec.append(float(result_cuStateVec.to_dict()['results'][0]['time_taken']))"
   ]
  },
  {
   "cell_type": "markdown",
   "metadata": {},
   "source": [
    "Now we plot them all together."
   ]
  },
  {
   "cell_type": "code",
   "execution_count": 5,
   "metadata": {},
   "outputs": [
    {
     "data": {
      "text/plain": [
       "Text(0, 0.5, 'Simulation time (s)')"
      ]
     },
     "execution_count": 5,
     "metadata": {},
     "output_type": "execute_result"
    },
    {
     "data": {
      "image/png": "[encoded data removed]",
      "text/plain": [
       "<Figure size 432x288 with 1 Axes>"
      ]
     },
     "metadata": {
      "needs_background": "light"
     },
     "output_type": "display_data"
    }
   ],
   "source": [
    "plt.yscale(\"log\")\n",
    "plt.plot(qubits_list, time_thrust, marker=\"o\", label='ThrustGPU')\n",
    "plt.plot(qubits_list, time_cuStateVec, 'g', marker=\"x\", label='cuStateVec')\n",
    "plt.legend()\n",
    "plt.xlabel(\"# of qubits\")\n",
    "plt.ylabel(\"Simulation time (s)\")"
   ]
  },
  {
   "cell_type": "code",
   "execution_count": null,
   "metadata": {},
   "outputs": [],
   "source": []
  }
 ],
 "metadata": {
  "interpreter": {
   "hash": "3fa2dec34fc1b035db492e17caaea20f0ce300dbbbf14257d86c3a203e59a73a"
  },
  "kernelspec": {
   "display_name": "Python 3.10.4 ('quantum-dev-3-10')",
   "language": "python",
   "name": "python3"
  },
  "language_info": {
   "codemirror_mode": {
    "name": "ipython",
    "version": 3
   },
   "file_extension": ".py",
   "mimetype": "text/x-python",
   "name": "python",
   "nbconvert_exporter": "python",
   "pygments_lexer": "ipython3",
   "version": "3.10.4"
  },
  "orig_nbformat": 4
 },
 "nbformat": 4,
 "nbformat_minor": 2
}
