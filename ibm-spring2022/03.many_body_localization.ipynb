{
 "cells": [
  {
   "cell_type": "code",
   "execution_count": 1,
   "id": "7152f2bf-5b38-470a-a523-6398a51c2c16",
   "metadata": {},
   "outputs": [
    {
     "name": "stderr",
     "output_type": "stream",
     "text": [
      "<frozen importlib._bootstrap>:219: RuntimeWarning: scipy._lib.messagestream.MessageStream size changed, may indicate binary incompatibility. Expected 56 from C header, got 64 from PyObject\n"
     ]
    }
   ],
   "source": [
    "import numpy as np\n",
    "import matplotlib.pyplot as plt\n",
    "\n",
    "# Importing standard Qiskit libraries\n",
    "from qiskit import QuantumCircuit, QuantumRegister, transpile, Aer, IBMQ, execute\n",
    "from qiskit.tools.jupyter import *\n",
    "from qiskit.visualization import *\n",
    "from qiskit.providers.aer import QasmSimulator\n",
    "from tqdm.notebook import tqdm\n",
    "\n",
    "from qiskit.providers.aer import QasmSimulator\n",
    "from qiskit.tools.monitor import job_monitor\n",
    "from qiskit.circuit import Parameter\n",
    "import qiskit.quantum_info as qi\n",
    "from qiskit.quantum_info.states import *\n",
    "\n",
    "from qc_grader.challenges.spring_2022.helpers import generate_disordered_tb_instruction\n",
    "\n",
    "# Suppress warnings\n",
    "import warnings\n",
    "warnings.filterwarnings('ignore')"
   ]
  },
  {
   "cell_type": "markdown",
   "id": "fe9e4c6f",
   "metadata": {},
   "source": [
    "## Many-body quantum dynamics\n",
    "\n",
    "In this exercise we examine lattice disorder and particle-particle interaction. A closed quantum many-body system initialized in a non-equilibrium will reach the equilibrium state, refered to as thermalization, under its own dynamics. This behavior is as a result of the laws of statistical mechanics, and analogous to a hot cup of coffee cooling down to the surronding tempreture if left unattended. \n",
    "\n",
    "However, the presence of lattice disorder prevents the system from evolving into an egodic thermalized state. This interplay between disorder and particle interaction results in many-body localization (MBL), and it allows the system to retain a memory of its initial condition at all times. For more information about MBL refer to [1]\n",
    "\n",
    "Let's again consider the tight-binding Hamiltonian with arbitrary site energies:\n",
    "\n",
    "$$H_{\\rm tb}/\\hbar = \\sum^{3}_{i=0} (X_i X_{i+1} + Y_i Y_{i+1}) + \\sum_i \\epsilon_i Z_i $$\n",
    "\n",
    "As we explored in exercise 2, we can emulate disorder in this system by setting $\\epsilon_i=W \\rm{cos}(2\\pi\\beta i)$, where $W$ is the disorder strength, and $\\beta$ determines the quasicrystal periodicity. We can add multiple particles to the system by initalizing multiple qubits to the $|1\\rangle$ state prior to the unitary time evolution. Under $H_{\\rm tb}$, each site can only be occupied by a single particle, resulting in particle repulsion interaction.\n",
    "\n",
    "[1] https://arxiv.org/abs/1804.11065"
   ]
  },
  {
   "cell_type": "markdown",
   "id": "324e267a",
   "metadata": {},
   "source": [
    "One of the signatures of the breakdown of thermalization is the emergence of **imbalance**. In a thermalized system, we expect each site of the lattice to be occupied by the same average number of particles after reaching steady state. However, adding disorder to the interacting system will result in deviations from the thermal value observed on each site. The system imbalance can be quantified using the following expression:\n",
    "\n",
    "$$\\mathcal{I}= \\langle (N_e-N_o)/(N_e+N_o) \\rangle$$\n",
    "\n",
    "where $N_e$ and $N_o$       are the even and odd site populations of the system. For a thermalized system this $\\mathcal{I}=0$, and system disorder will cause deviations from this value."
   ]
  },
  {
   "cell_type": "markdown",
   "id": "bfe79af8",
   "metadata": {},
   "source": [
    "<div class=\"alert alert-block alert-danger\">\n",
    "    \n",
    "<b>Challenge question 3a</b> \n",
    "\n",
    "Write a function that outputs the imbalance of a quantum state\n",
    "    \n",
    "</div>"
   ]
  },
  {
   "cell_type": "code",
   "execution_count": 4,
   "id": "3f428318",
   "metadata": {},
   "outputs": [
    {
     "name": "stdout",
     "output_type": "stream",
     "text": [
      "-0.3333333333333333\n",
      "-0.16666666666666669\n"
     ]
    }
   ],
   "source": [
    "def get_imbalance(state):\n",
    "    ###EDIT CODE BELOW\n",
    "    ### HINT: MAKE SURE TO SKIP CALCULATING IMBALANCE OF THE |00...0> STATE\n",
    "    imbalance_val=0\n",
    "    \n",
    "    for i in range(2**state.num_qubits):\n",
    "        if state[i] != 0 and i != 0:\n",
    "            \n",
    "            num_bits = state.num_qubits\n",
    "            temp = f'{i:0{num_bits}b}'[::-1]  \n",
    "            \n",
    "            No = 0\n",
    "            Ne = 0\n",
    "            \n",
    "            for j in range(num_bits):\n",
    "                if (j % 2) == 0 and temp[j]==\"1\":\n",
    "                    No += 1\n",
    "                elif (j % 2) == 1 and temp[j]==\"1\": \n",
    "                    Ne += 1\n",
    "                    \n",
    "            imbalance_val += abs(state[i]**2)*((Ne - No) / (Ne + No))\n",
    "\n",
    "    ###DO NOT EDIT BELOW\n",
    "    return float(imbalance_val)\n",
    "\n",
    "\n",
    "print(get_imbalance(Statevector.from_label('0111')))\n",
    "print(get_imbalance(np.sqrt(1/2) * Statevector.from_label('0000') + np.sqrt(1/2) * Statevector.from_label('0111')))"
   ]
  },
  {
   "cell_type": "code",
   "execution_count": 3,
   "id": "88d6f911-f580-4dcf-a33c-f2275384576d",
   "metadata": {},
   "outputs": [
    {
     "name": "stdout",
     "output_type": "stream",
     "text": [
      "-0.3333333333333333\n",
      "-0.1111111111111111\n",
      "-0.16666666666666663\n"
     ]
    }
   ],
   "source": [
    "ex1 = qi.Statevector.from_label('0111')\n",
    "ex2 = np.sqrt(2/3)*qi.Statevector.from_label('0111') + np.sqrt(1/3)*qi.Statevector.from_label('1011')\n",
    "ex3 = (qi.Statevector.from_label(\"0000\") + qi.Statevector.from_label(\"0111\")) * (1/ np.sqrt(2))\n",
    "\n",
    "#get_imbalance(ex1) = -0.3333333333333333\n",
    "#get_imbalance(ex2) = -0.1111111111111111\n",
    "#get_imbalance(ex3) = -0.16666666666666663\n",
    "print(get_imbalance(ex1))\n",
    "print(get_imbalance(ex2))\n",
    "print(get_imbalance(ex3))"
   ]
  },
  {
   "cell_type": "code",
   "execution_count": 224,
   "id": "5f6fdd44",
   "metadata": {},
   "outputs": [
    {
     "name": "stdout",
     "output_type": "stream",
     "text": [
      "Submitting your answer. Please wait...\n",
      "Congratulations 🎉! Your answer is correct and has been submitted.\n"
     ]
    }
   ],
   "source": [
    "## Grade and submit your solution\n",
    "from qc_grader.challenges.spring_2022 import grade_ex3a\n",
    "grade_ex3a(get_imbalance) \n"
   ]
  },
  {
   "cell_type": "markdown",
   "id": "276339f9",
   "metadata": {},
   "source": [
    "Next, we consider how quantum information and entanglement entropy grows in the system. In an entangled system, ignoring information about the remaining system puts the subsystem into a mixed state of different number states. We can probe the **von Neumann entropy** to gain insight into the degree of entanglement between subsystem $A$ and the remaining of the system:\n",
    "\n",
    "$$\\mathcal{S}_{\\rm vn}(\\rho_A)= -\\rm{tr}(\\rho_A \\rm{ln} \\rho_A)$$\n",
    "\n",
    "Here, $\\rho_A= \\rm{tr}_{\\bar{A}} \\rho$ is the reduced density matrix describing subsytem $A$ when we trace out the rest of the system. If a subsytem $A$ is fully entangled with the rest of the system, $\\mathcal{S}_{\\rm vn}(\\rho_A) = \\rm{ln}2$, whereas if the subsytem is completely separable (in a product state) with respect to its environment $\\mathcal{S}_{\\rm vn}(\\rho_A)=0$. Consider the example below:"
   ]
  },
  {
   "cell_type": "code",
   "execution_count": 5,
   "id": "b0e069e1",
   "metadata": {},
   "outputs": [
    {
     "name": "stdout",
     "output_type": "stream",
     "text": [
      "QB0 vn entropy:  0.6931471805599454\n",
      "QB1 vn entropy:  0.6931471805599454\n"
     ]
    }
   ],
   "source": [
    "bell_state = qi.Statevector(np.array([0,1,1,0])/np.sqrt(2))\n",
    "\n",
    "rho_0 = qi.partial_trace(bell_state,[1]) # We trace out qubit 1\n",
    "rho_1 = qi.partial_trace(bell_state,[0]) # We trace out qubit 0\n",
    "#print(np.abs(rho_0))\n",
    "#print(rho_1)\n",
    "\n",
    "print('QB0 vn entropy: ', qi.entropy(rho_0, base=np.exp(1)))\n",
    "print('QB1 vn entropy: ', qi.entropy(rho_1, base=np.exp(1)))"
   ]
  },
  {
   "cell_type": "markdown",
   "id": "a80d1c7f",
   "metadata": {},
   "source": [
    "## Probing the many-body quantum dynamics in a 12 qubit chain\n",
    "\n",
    "For this part of the exercise, we use the same lattice disorder pattern as we explored in exercise 2."
   ]
  },
  {
   "cell_type": "code",
   "execution_count": 6,
   "id": "6d790e43-7e59-40b3-9a3a-806e7df15b70",
   "metadata": {},
   "outputs": [],
   "source": [
    "t = Parameter('t')"
   ]
  },
  {
   "cell_type": "code",
   "execution_count": 7,
   "id": "0ab29437",
   "metadata": {},
   "outputs": [],
   "source": [
    "num_qubits=12\n",
    "deltas=[Parameter('delta_{:d}'.format(idx)) for idx in range(num_qubits)]\n",
    "disorder_trot_step=generate_disordered_tb_instruction(t, deltas, num_qubits)"
   ]
  },
  {
   "cell_type": "code",
   "execution_count": 8,
   "id": "e1ae8b4e",
   "metadata": {},
   "outputs": [],
   "source": [
    "# Here we define the disorder pattern\n",
    "\n",
    "beta=(np.sqrt(5)-1)/2 # DO NOT EDIT\n",
    "AA_pattern=np.cos(2*np.pi*beta*np.arange(num_qubits)) # DO NOT EDIT"
   ]
  },
  {
   "cell_type": "markdown",
   "id": "73f306b7",
   "metadata": {},
   "source": [
    "<div class=\"alert alert-block alert-danger\">\n",
    "    \n",
    "<b>Challenge question 3b</b> \n",
    "\n",
    "Initialize the system by setting qubits 0, 4, and 8 to $|1\\rangle$.\n",
    "    \n",
    "</div>"
   ]
  },
  {
   "cell_type": "code",
   "execution_count": 22,
   "id": "1941aa83",
   "metadata": {},
   "outputs": [],
   "source": [
    "delta_t=0.1\n",
    "time_steps=np.arange(0,41,2)\n",
    "\n",
    "circuits={}\n",
    "Ws=[1,4,10]\n",
    "\n",
    "for W in Ws:\n",
    "    disorders=W*AA_pattern\n",
    "    \n",
    "    circuits[W]=[]\n",
    "\n",
    "    for n_steps in time_steps:\n",
    "\n",
    "        qr = QuantumRegister(num_qubits)\n",
    "        qc = QuantumCircuit(qr)\n",
    "\n",
    "        ###EDIT CODE BELOW\n",
    "        qc.x(0)\n",
    "        qc.x(4)\n",
    "        qc.x(8)\n",
    "        ###DO NOT EDIT BELOW     \n",
    "\n",
    "        for _ in range(n_steps):\n",
    "            qc.append(disorder_trot_step, [i for i in range(num_qubits)])\n",
    "        \n",
    "        if n_steps!=0:\n",
    "            qc = qc.bind_parameters({t: delta_t})\n",
    "            qc = qc.bind_parameters({deltas[idx]: disorders[idx] for idx in range(num_qubits)})\n",
    "\n",
    "        circuits[W].append(qc)"
   ]
  },
  {
   "cell_type": "markdown",
   "id": "68d6bb10",
   "metadata": {},
   "source": [
    "<div class=\"alert alert-block alert-danger\">\n",
    "    \n",
    "<b>Challenge question 3c</b> \n",
    "\n",
    "Extract the von Neumann entropy of qubit 0 at different evolution time steps for different disorder strengths.\n",
    "    \n",
    "</div>"
   ]
  },
  {
   "cell_type": "markdown",
   "id": "7daa18a2",
   "metadata": {},
   "source": [
    "<div class=\"alert alert-block alert-danger\">\n",
    "    \n",
    "<b>Challenge question 3d</b> \n",
    "\n",
    "Extract the imbalance of the lattice at different evolution time steps for different disorder strengths.\n",
    "    \n",
    "</div>"
   ]
  },
  {
   "cell_type": "code",
   "execution_count": 23,
   "id": "ba1ac736",
   "metadata": {
    "scrolled": true
   },
   "outputs": [
    {
     "data": {
      "application/vnd.jupyter.widget-view+json": {
       "model_id": "98290d2fdd8445718fa93282e6694123",
       "version_major": 2,
       "version_minor": 0
      },
      "text/plain": [
       "  0%|          | 0/3 [00:00<?, ?it/s]"
      ]
     },
     "metadata": {},
     "output_type": "display_data"
    }
   ],
   "source": [
    "from qiskit import transpile\n",
    "\n",
    "# Use Aer's statevector simulator\n",
    "from qiskit import Aer\n",
    "\n",
    "# Run the quantum circuit on a statevector simulator backend\n",
    "backend_sim = Aer.get_backend('statevector_simulator')\n",
    "\n",
    "probability_densities={}\n",
    "state_vector_imbalances={}\n",
    "vn_entropies={}\n",
    "\n",
    "for W in tqdm(Ws):\n",
    "    probability_densities[W]=[]\n",
    "    state_vector_imbalances[W]=[]\n",
    "    vn_entropies[W]=[]\n",
    "    \n",
    "    for circ in circuits[W]:\n",
    "\n",
    "        transpiled_circ=transpile(circ, backend_sim, optimization_level=3)\n",
    "\n",
    "        job_sim = backend_sim.run(transpiled_circ)\n",
    "\n",
    "        # Grab the results from the job.\n",
    "        result_sim = job_sim.result()\n",
    "        outputstate = result_sim.get_statevector(transpiled_circ, decimals=6)\n",
    "        ps=[]\n",
    "        for idx in range(num_qubits):\n",
    "            ps.append(np.abs(qi.partial_trace(outputstate,[i for i in range(num_qubits) if i!=idx]))[1,1]**2)\n",
    "        \n",
    "        entropy=0\n",
    "        ### EDIT CODE BELOW (extract the density matrix of qubit 0 by tracing out all other qubits)\n",
    "\n",
    "        rho = qi.partial_trace(outputstate,range(1,num_qubits))\n",
    "        entropy = qi.entropy(rho,base=np.exp(1))\n",
    "        #print(entropy)\n",
    "        ###DO NOT EDIT BELOW \n",
    "        \n",
    "        imbalance=0\n",
    "        ### EDIT CODE BELOW \n",
    "        imbalance = get_imbalance(outputstate)\n",
    "        #print(imbalance)\n",
    "        ###DO NOT EDIT BELOW\n",
    "        \n",
    "        \n",
    "        vn_entropies[W].append(entropy)\n",
    "        probability_densities[W].append(ps)\n",
    "        state_vector_imbalances[W].append(imbalance)"
   ]
  },
  {
   "cell_type": "code",
   "execution_count": 11,
   "id": "efb28c09-5bd0-4ef7-8efd-cac3031db165",
   "metadata": {},
   "outputs": [
    {
     "name": "stdout",
     "output_type": "stream",
     "text": [
      "{1: [0.0, 0.4152763055958735, 0.6817269556400711, 0.6818254024386812, 0.6870217534545512, 0.6920849694842779, 0.6824247011740929, 0.6543748449378481, 0.6592346659048016, 0.6860231297306874, 0.6923844580511951], 4: [0.0, 0.3008097321842692, 0.11703451803673823, 0.3024933463848734, 0.08151484824438185, 0.2953503607376135, 0.19528399798150214, 0.2785613822018774, 0.16329225934684552, 0.23551795225581046, 0.24371777111931023], 10: [0.0, 0.03492425630643877, 0.08433704230464922, 0.13514910823763363, 0.16580655244447542, 0.16506152104931204, 0.14172125600329194, 0.08956903191968918, 0.03863275210095392, 0.005702003402201369, 0.02593804269959059]}\n",
      "=======================================\n",
      "{1: [[1.0, 0.0, 0.0, 0.0, 1.0, 0.0, 0.0, 0.0, 1.0, 0.0, 0.0, 0.0], [0.729732364057434, 0.01766365638157795, 0.00020408882686748258, 0.01714862178341698, 0.5259276424197965, 0.016836433847371594, 0.00019832720104560252, 0.017362120974479426, 0.5250182901744377, 0.01677989625302714, 0.00015924184209450124, 3.781047770550624e-09], [0.3311094023587631, 0.10358512707014836, 0.018983524872859443, 0.08105672785464907, 0.10238029705218014, 0.07143947851886606, 0.01649849991988397, 0.08757068928557318, 0.09675311624819882, 0.0681663454407516, 0.00838112883364995, 2.4399496978836588e-05], [0.1805429020925823, 0.09759379404535495, 0.13521022047267212, 0.05070343382907198, 0.08889250950920313, 0.030387958206452802, 0.0956907760951607, 0.0639220906368736, 0.07332734130229145, 0.01897824432832583, 0.034451083586290204, 0.001682121808024], [0.19777027501127195, 0.03861908322076551, 0.20100088080471462, 0.02951251327777457, 0.20823077775762258, 0.010170721417072735, 0.09645459940001903, 0.033171070631938256, 0.16656258028480825, 1.2812618145067991e-05, 0.02089501442271811, 0.01756122048002256], [0.22748758666489738, 0.03851328305310866, 0.06652389352458545, 0.10255662688997493, 0.1857293842524876, 0.061470087463930276, 0.013438707239946389, 0.06413775136450346, 0.125853930023058, 0.00887589988882563, 0.0004941549756689379, 0.052602269075997896], [0.18225127660269874, 0.09251470794533566, 0.002368658588490487, 0.19942807702519674, 0.13353584676108232, 0.13012913598158996, 0.0008960223098643425, 0.08431508308005009, 0.0629523542718735, 0.03302148178176638, 0.0038490236352867603, 0.054082802919022885], [0.13080756713337877, 0.13193798109638205, 0.0017231986333453332, 0.14038102383249912, 0.20520201656520798, 0.0702635140467525, 0.019714619709507462, 0.03548461346065064, 0.10198639594309086, 0.007354664870112607, 0.07361157335835582, 0.018396561532780492], [0.13728885022058523, 0.10385006550955282, 0.015520135625740257, 0.09017927280987569, 0.2359391549800455, 0.035763005753223956, 0.04538106727786901, 0.016953692925644977, 0.14023624097295168, 0.004161739937090306, 0.1374097076204618, 0.0029784963404297796], [0.1939431332702707, 0.05536720676060835, 0.02864898255897107, 0.11841672129352014, 0.09960917747094106, 0.06644818985742848, 0.0421459012179504, 0.029991391814512453, 0.05755702462473646, 0.0736371771189988, 0.07742387292639276, 0.004837176363145306], [0.230856248218857, 0.024841576420504382, 0.07216830231423407, 0.102737054047079, 0.022539707369071734, 0.07950838089359856, 0.0944970064993146, 0.02366976342471386, 0.010708880772784818, 0.15650663384088354, 0.060640777917704204, 0.01796706759053913]], 4: [[1.0, 0.0, 0.0, 0.0, 1.0, 0.0, 0.0, 0.0, 1.0, 0.0, 0.0, 0.0], [0.8294574578193004, 0.006383508810560303, 0.00011648079721576496, 0.007632533910284615, 0.6871755649831659, 0.005385555022031426, 0.00010586217409187222, 0.009532122759373648, 0.6736046406541301, 0.0051270859784984905, 7.281764929427887e-05, 3.7813707241082e-09], [0.9505576100991612, 2.2453412415301135e-05, 0.001417842543439043, 0.00026738851461673266, 0.9006458897227169, 9.801154501140436e-06, 0.0011529932582992608, 0.0022801711683572605, 0.8398281278765475, 2.286994173810205e-06, 0.00014446717957656172, 6.133903601182733e-06], [0.8281346157516393, 0.007637666426889681, 0.0001722566592454112, 0.00292447785767371, 0.6995727057629246, 0.009024060136080638, 0.0005549385025059516, 0.0006390863978080622, 0.7267692384667065, 0.007110385182985288, 0.00013175486288747722, 4.674443325830054e-05], [0.9685038421362738, 8.175314528504475e-05, 0.00014327793169477353, 0.000469761573069095, 0.9192481123557577, 2.5928304376109413e-06, 0.000708963060695307, 0.002039939698067635, 0.8339172301788194, 4.076651058737691e-06, 0.00026722990828986857, 8.939818150152032e-05], [0.8337160278204426, 0.00602325330249705, 0.00038469148058354534, 0.0031338091863120344, 0.6869288858725409, 0.008921765808709008, 0.0016770679924513851, 0.0016194406464703588, 0.6699582208423407, 0.007264796369384596, 0.00022689300921678097, 0.0001090905832941962], [0.90457826818701, 0.0005921933085407058, 0.0011494548827784014, 0.0027172747563335227, 0.8336853322882173, 0.00016318209651262374, 0.0010262548670860164, 0.005285373340991336, 0.759492510773521, 1.2567456401842236e-05, 0.0008379322975223894, 1.589238312239674e-05], [0.8465573791552284, 0.005740127861098335, 9.985252593163096e-05, 0.0003270996978213448, 0.745757131108177, 0.013182460190787, 9.124513858898646e-05, 4.056086145099816e-06, 0.7733416747368431, 0.00854253951429573, 0.00014726043967009677, 4.6714454030204765e-06], [0.924396217191265, 0.0012349053020434544, 7.338760268092667e-05, 0.004865285708977144, 0.8377010838265281, 9.685590118660804e-05, 0.00015074103395988986, 0.010593399132232452, 0.750241335868475, 3.9029873706776885e-06, 0.0002300753729766227, 2.1737045079067416e-06], [0.8777087904612577, 0.003298151149414512, 0.0010385447285788513, 0.0003387235023738775, 0.7432340342941028, 0.010290314005886047, 0.00026071430153997143, 0.004209913207285165, 0.7015787016811816, 0.004786034106848728, 2.153879040777526e-07, 1.0548123119014683e-05], [0.8719675666744459, 0.0031867270337552823, 0.0007750034164312982, 0.0034940373766333774, 0.834191802906067, 0.000729994016859325, 0.0002518114430076084, 0.0003685958677017203, 0.879993251871097, 3.7184405325799944e-05, 2.3039541026285799e-07, 7.416249644725107e-06]], 10: [[1.0, 0.0, 0.0, 0.0, 1.0, 0.0, 0.0, 0.0, 1.0, 0.0, 0.0, 0.0], [0.9887138591507967, 2.5214200704291385e-05, 4.294026868805458e-06, 1.6182032239052688e-08, 0.9749996253872164, 0.00011162423197868911, 3.5587083168252096e-06, 2.3223392360757167e-05, 0.9604923177597477, 0.00016479845338147732, 6.394682816851064e-07, 3.7814333240896e-09], [0.967152368501038, 0.0002641611192435965, 2.9776747770787687e-06, 3.905004299329128e-07, 0.9359300238243778, 0.0009106999091860201, 1.3139210425321428e-05, 0.00016418952394145248, 0.8985343849423026, 0.0012392629586627543, 2.2750568769916696e-07, 1.0113818393333462e-07], [0.9406719308896776, 0.0009050174774723697, 2.3861013029770814e-08, 1.1490355478025932e-06, 0.9149938729504815, 0.0017200810865249615, 2.44103933481485e-05, 0.0002506925590041006, 0.8829161969387148, 0.0015944364015714767, 5.337216989647898e-08, 4.297018345834504e-08], [0.9228898272099638, 0.0014802171384915464, 7.734387878266258e-06, 3.0202834835136302e-06, 0.9288841837233257, 0.0010535438846975274, 1.3051094324732128e-05, 0.0004612142354099484, 0.9069680468373894, 0.00046116303021324277, 9.638367028324372e-07, 4.0351089436149646e-08], [0.92333612198687, 0.0014959356279647255, 4.227451272918289e-06, 1.8952289927543457e-05, 0.9619612342484615, 0.00014176715339794119, 1.090629588176442e-05, 0.0011470979579750091, 0.9216586720806649, 4.333586090963971e-06, 3.2929225940053815e-06, 4.3633460425792635e-08], [0.9369699569946492, 0.0009396850228376247, 2.0672989936515557e-06, 4.392211542887396e-05, 0.986071044012214, 2.9867565142333216e-07, 4.158990474003294e-08, 0.001690470186433214, 0.9082457514825879, 2.2594375399627678e-05, 4.168659330565245e-07, 1.4595901782250006e-10], [0.9646079290591876, 0.00029087826370560743, 8.041506062719873e-06, 5.956275580697156e-05, 0.9626060898898228, 8.935161437539529e-05, 2.614255335349078e-06, 0.0010634584524243157, 0.8812944021577883, 0.0006877146901911088, 1.9532097543706092e-07, 2.5770649190399996e-13], [0.9872697808024558, 3.118861098416848e-05, 5.68079617731603e-06, 0.00011003229024965303, 0.9189286524423235, 0.0008948532702816483, 2.718641358095135e-05, 0.0004108151931336665, 0.8653574336705196, 0.0017338558126357999, 3.7350249809868982e-06, 1.0633232005294098e-08], [0.9986244027226223, 2.0771805779529993e-08, 6.034368740222563e-07, 0.00014218903237123748, 0.8928269221166609, 0.0017943983257017653, 6.556877674825402e-05, 0.00022645414699103575, 0.8912670591054875, 0.0010109717201782773, 1.4768386946578652e-06, 1.3173555094699778e-07], [0.9920676349772016, 1.3908853557580684e-05, 6.612650693980876e-06, 0.00017201676104795929, 0.9009560986447828, 0.0012605332538002433, 1.80515674247735e-05, 0.00012914691128495072, 0.9512926119480721, 7.092970157433946e-05, 7.63978190536149e-08, 4.624670077631253e-08]]}\n",
      "=======================================\n",
      "{1: [-1.0, -0.5633483255506669, -0.04281166957699998, -0.23766722769266665, -0.4750747871413333, -0.10583791703866645, 0.21074512733333328, -0.058168873294000015, -0.29269246746266653, -0.0991429176883333, -0.03759295019533336], 4: [-1.0, -0.7267032812430002, -0.949359541231333, -0.7647280080706672, -0.940689505109667, -0.7573548986033339, -0.8870208403223337, -0.7964902155899992, -0.8525947055480003, -0.7902745193933343, -0.8862667098876663], 10: [-1.0, -0.9777117570069999, -0.9364070508770004, -0.9142658928313334, -0.9227869262609995, -0.9392689915393332, -0.9441936434089997, -0.9379586265453335, -0.9279994993343333, -0.9322433976799998, -0.951767216051333]}\n"
     ]
    }
   ],
   "source": [
    "print(vn_entropies)\n",
    "print(\"=======================================\")\n",
    "print(probability_densities)\n",
    "print(\"=======================================\")\n",
    "print(state_vector_imbalances)"
   ]
  },
  {
   "cell_type": "code",
   "execution_count": 14,
   "id": "d4bdd7ac-7c2f-439f-9364-74cb8ba7537c",
   "metadata": {},
   "outputs": [
    {
     "name": "stdout",
     "output_type": "stream",
     "text": [
      "[1, 4, 10]\n"
     ]
    }
   ],
   "source": [
    "print(Ws)"
   ]
  },
  {
   "cell_type": "code",
   "execution_count": 24,
   "id": "3b728147",
   "metadata": {
    "tags": []
   },
   "outputs": [
    {
     "data": {
      "image/png": "[encoded data removed]",
      "text/plain": [
       "<Figure size 1080x360 with 3 Axes>"
      ]
     },
     "metadata": {},
     "output_type": "display_data"
    }
   ],
   "source": [
    "fig, axs = plt.subplots(1,3,figsize=(15,5), facecolor='white', sharey=True)\n",
    "\n",
    "for i,W in enumerate(Ws):\n",
    "    ax=axs[i]\n",
    "    ax.pcolormesh(np.arange(0,num_qubits,1), time_steps*delta_t ,probability_densities[W])\n",
    "    ax.set_title(f'Density {W}')\n",
    "    ax.set_xlabel('Qubit index')\n",
    "    ax.set_xticks(np.arange(1,num_qubits,1))\n",
    "\n",
    "axs[0].set_ylabel('Time (1/J)')\n",
    "\n",
    "plt.show()"
   ]
  },
  {
   "cell_type": "code",
   "execution_count": 25,
   "id": "cff7aa4e",
   "metadata": {},
   "outputs": [
    {
     "data": {
      "image/png": "[encoded data removed]",
      "text/plain": [
       "<Figure size 432x288 with 1 Axes>"
      ]
     },
     "metadata": {
      "needs_background": "light"
     },
     "output_type": "display_data"
    }
   ],
   "source": [
    "for W in Ws:\n",
    "    plt.plot(time_steps*delta_t,vn_entropies[W], '--o', label='W={:d}'.format(W))\n",
    "\n",
    "plt.title(r'Entropy')\n",
    "plt.xlabel(r'Time (1/J)')\n",
    "plt.ylabel(r'$\\mathcal{S}_{\\rm vn}(\\rho_0)$')\n",
    "plt.legend()\n",
    "plt.show()"
   ]
  },
  {
   "cell_type": "code",
   "execution_count": 12,
   "id": "c98610e8",
   "metadata": {},
   "outputs": [
    {
     "name": "stdout",
     "output_type": "stream",
     "text": [
      "Submitting your answer. Please wait...\n",
      "Congratulations 🎉! Your answer is correct and has been submitted.\n"
     ]
    }
   ],
   "source": [
    "## Grade and submit your solution\n",
    "from qc_grader.challenges.spring_2022 import grade_ex3b\n",
    "\n",
    "grade_ex3b(vn_entropies)\n"
   ]
  },
  {
   "cell_type": "code",
   "execution_count": 26,
   "id": "9ed1e6a0",
   "metadata": {},
   "outputs": [
    {
     "data": {
      "image/png": "[encoded data removed]",
      "text/plain": [
       "<Figure size 432x288 with 1 Axes>"
      ]
     },
     "metadata": {
      "needs_background": "light"
     },
     "output_type": "display_data"
    }
   ],
   "source": [
    "for W in Ws:\n",
    "    plt.plot(time_steps*delta_t,state_vector_imbalances[W], '--o', label='W={:d}'.format(W))\n",
    "\n",
    "plt.title(r'Imbalance')\n",
    "plt.xlabel(r'Time (1/J)')\n",
    "plt.ylabel(r'$\\mathcal{I}$')\n",
    "plt.legend()\n",
    "plt.show()"
   ]
  },
  {
   "cell_type": "code",
   "execution_count": 25,
   "id": "a141777d",
   "metadata": {},
   "outputs": [
    {
     "name": "stdout",
     "output_type": "stream",
     "text": [
      "Submitting your answer. Please wait...\n",
      "Congratulations 🎉! Your answer is correct and has been submitted.\n"
     ]
    }
   ],
   "source": [
    "## Grade and submit your solution\n",
    "from qc_grader.challenges.spring_2022 import grade_ex3c\n",
    "\n",
    "grade_ex3c(state_vector_imbalances)\n"
   ]
  },
  {
   "cell_type": "code",
   "execution_count": null,
   "id": "aaf1f580-f3c7-44fe-8048-877a0b1a29b9",
   "metadata": {},
   "outputs": [],
   "source": []
  }
 ],
 "metadata": {
  "kernelspec": {
   "display_name": "Qiskit v0.35.0 (ipykernel)",
   "language": "python",
   "name": "python3"
  },
  "language_info": {
   "codemirror_mode": {
    "name": "ipython",
    "version": 3
   },
   "file_extension": ".py",
   "mimetype": "text/x-python",
   "name": "python",
   "nbconvert_exporter": "python",
   "pygments_lexer": "ipython3",
   "version": "3.8.13"
  },
  "widgets": {
   "application/vnd.jupyter.widget-state+json": {
    "state": {
     "0c5591a3b1d243a4b5cc7bda4af0e2f2": {
      "model_module": "@jupyter-widgets/base",
      "model_module_version": "1.2.0",
      "model_name": "LayoutModel",
      "state": {}
     },
     "1590f0912a864e25a81228d855ef2345": {
      "model_module": "@jupyter-widgets/base",
      "model_module_version": "1.2.0",
      "model_name": "LayoutModel",
      "state": {}
     },
     "15922c2fd02245ba91843c5ac86ccb62": {
      "model_module": "@jupyter-widgets/controls",
      "model_module_version": "1.5.0",
      "model_name": "HTMLModel",
      "state": {
       "layout": "IPY_MODEL_46fe35440fea4291bee5fbf9030c7b97",
       "style": "IPY_MODEL_c658aa04c2cf4ce4b61fd7379e516c64",
       "value": "<h5>Status</h5>"
      }
     },
     "291b3a03544b4ea4b3f84d7019f10056": {
      "model_module": "@jupyter-widgets/controls",
      "model_module_version": "1.5.0",
      "model_name": "HTMLModel",
      "state": {
       "layout": "IPY_MODEL_2e5426da2faf4581a9b7791c711276a6",
       "style": "IPY_MODEL_6c16c9eb09674da8a507bd610c5bc4e7",
       "value": "<h5>Message</h5>"
      }
     },
     "292fae8d500041e6838d9102f0b529f4": {
      "model_module": "@jupyter-widgets/base",
      "model_module_version": "1.2.0",
      "model_name": "LayoutModel",
      "state": {
       "grid_area": "right",
       "padding": "0px 0px 0px 0px",
       "width": "70px"
      }
     },
     "2e5426da2faf4581a9b7791c711276a6": {
      "model_module": "@jupyter-widgets/base",
      "model_module_version": "1.2.0",
      "model_name": "LayoutModel",
      "state": {}
     },
     "2f12e83ef1414743ad460b7a35e11e34": {
      "model_module": "@jupyter-widgets/controls",
      "model_module_version": "1.5.0",
      "model_name": "DescriptionStyleModel",
      "state": {
       "description_width": ""
      }
     },
     "3da72acc74754c8b87593eac4047f0d9": {
      "model_module": "@jupyter-widgets/controls",
      "model_module_version": "1.5.0",
      "model_name": "DescriptionStyleModel",
      "state": {
       "description_width": ""
      }
     },
     "3ddfef2683f2479c9c5d48d8145f292e": {
      "model_module": "@jupyter-widgets/base",
      "model_module_version": "1.2.0",
      "model_name": "LayoutModel",
      "state": {}
     },
     "40abb131e70e46b7bbcd1dc8fe13e54c": {
      "model_module": "@jupyter-widgets/controls",
      "model_module_version": "1.5.0",
      "model_name": "ProgressStyleModel",
      "state": {
       "description_width": ""
      }
     },
     "430e997c66014acd988549f4a400a4d7": {
      "model_module": "@jupyter-widgets/base",
      "model_module_version": "1.2.0",
      "model_name": "LayoutModel",
      "state": {}
     },
     "448fdde876594fa6bcb282c949b3416b": {
      "model_module": "@jupyter-widgets/base",
      "model_module_version": "1.2.0",
      "model_name": "LayoutModel",
      "state": {}
     },
     "45e677b3025a441b8ac0550bdf75fcf6": {
      "model_module": "@jupyter-widgets/base",
      "model_module_version": "1.2.0",
      "model_name": "LayoutModel",
      "state": {
       "margin": "0px 0px 10px 0px"
      }
     },
     "46fe35440fea4291bee5fbf9030c7b97": {
      "model_module": "@jupyter-widgets/base",
      "model_module_version": "1.2.0",
      "model_name": "LayoutModel",
      "state": {
       "width": "95px"
      }
     },
     "54249ff6c61d4ff5a054f0122b48a7db": {
      "model_module": "@jupyter-widgets/controls",
      "model_module_version": "1.5.0",
      "model_name": "HTMLModel",
      "state": {
       "layout": "IPY_MODEL_45e677b3025a441b8ac0550bdf75fcf6",
       "style": "IPY_MODEL_56d19d0369974e2cbda1a16d3f0d96cd",
       "value": "<p style='font-family: IBM Plex Sans, Arial, Helvetica, sans-serif; font-size: 20px; font-weight: medium;'>Circuit Properties</p>"
      }
     },
     "56d19d0369974e2cbda1a16d3f0d96cd": {
      "model_module": "@jupyter-widgets/controls",
      "model_module_version": "1.5.0",
      "model_name": "DescriptionStyleModel",
      "state": {
       "description_width": ""
      }
     },
     "608ca138efeb461db31b8724ba9c522e": {
      "model_module": "@jupyter-widgets/controls",
      "model_module_version": "1.5.0",
      "model_name": "ProgressStyleModel",
      "state": {
       "description_width": ""
      }
     },
     "60b5b5b153374d19b1488c4ee841bd72": {
      "model_module": "@jupyter-widgets/controls",
      "model_module_version": "1.5.0",
      "model_name": "GridBoxModel",
      "state": {
       "children": [
        "IPY_MODEL_6fa1731d5c114617bacb6c2776bf8dec"
       ],
       "layout": "IPY_MODEL_ce707b18b4f0478098dfa431dcfafcf6"
      }
     },
     "61d6a19539604a9b92a92f0af3846e5a": {
      "model_module": "@jupyter-widgets/controls",
      "model_module_version": "1.5.0",
      "model_name": "DescriptionStyleModel",
      "state": {
       "description_width": ""
      }
     },
     "65662a83730f4dc687877ce19d20e0a6": {
      "model_module": "@jupyter-widgets/base",
      "model_module_version": "1.2.0",
      "model_name": "LayoutModel",
      "state": {}
     },
     "6634b46bd11a48f6bec8528134ae893e": {
      "model_module": "@jupyter-widgets/controls",
      "model_module_version": "1.5.0",
      "model_name": "HTMLModel",
      "state": {
       "layout": "IPY_MODEL_d4c5410796d54ab2af5b523bf0421020",
       "style": "IPY_MODEL_2f12e83ef1414743ad460b7a35e11e34",
       "value": "<h5>Backend</h5>"
      }
     },
     "688d8c5351354553a4b75f7ac7b89a7d": {
      "model_module": "@jupyter-widgets/controls",
      "model_module_version": "1.5.0",
      "model_name": "DescriptionStyleModel",
      "state": {
       "description_width": ""
      }
     },
     "6c16c9eb09674da8a507bd610c5bc4e7": {
      "model_module": "@jupyter-widgets/controls",
      "model_module_version": "1.5.0",
      "model_name": "DescriptionStyleModel",
      "state": {
       "description_width": ""
      }
     },
     "6fa1731d5c114617bacb6c2776bf8dec": {
      "model_module": "@jupyter-widgets/controls",
      "model_module_version": "1.5.0",
      "model_name": "ButtonModel",
      "state": {
       "button_style": "primary",
       "description": "Clear",
       "layout": "IPY_MODEL_292fae8d500041e6838d9102f0b529f4",
       "style": "IPY_MODEL_dc7a06faacca4329ada16f2fd652a320"
      }
     },
     "7296050c397a46678ff277132fe523ae": {
      "model_module": "@jupyter-widgets/base",
      "model_module_version": "1.2.0",
      "model_name": "LayoutModel",
      "state": {
       "width": "70px"
      }
     },
     "743d371a4e0e413c9f251d040e0bd2e0": {
      "model_module": "@jupyter-widgets/controls",
      "model_module_version": "1.5.0",
      "model_name": "HTMLModel",
      "state": {
       "layout": "IPY_MODEL_f156259d335e4fbebb72ece8018ea692",
       "style": "IPY_MODEL_9409885a0758488abea517b17351f7cc",
       "value": "<h5>Job ID</h5>"
      }
     },
     "7daae1618af24fbebcd5d2dcc034d88a": {
      "model_module": "@jupyter-widgets/controls",
      "model_module_version": "1.5.0",
      "model_name": "FloatProgressModel",
      "state": {
       "bar_style": "success",
       "layout": "IPY_MODEL_0c5591a3b1d243a4b5cc7bda4af0e2f2",
       "max": 3,
       "style": "IPY_MODEL_608ca138efeb461db31b8724ba9c522e",
       "value": 3
      }
     },
     "7fc8a852d11e4d2c9107fd541cd122dd": {
      "model_module": "@jupyter-widgets/controls",
      "model_module_version": "1.5.0",
      "model_name": "DescriptionStyleModel",
      "state": {
       "description_width": ""
      }
     },
     "81a60ded8ec34a0fbbc292ffdf700f37": {
      "model_module": "@jupyter-widgets/controls",
      "model_module_version": "1.5.0",
      "model_name": "HTMLModel",
      "state": {
       "layout": "IPY_MODEL_448fdde876594fa6bcb282c949b3416b",
       "style": "IPY_MODEL_61d6a19539604a9b92a92f0af3846e5a",
       "value": " 3/3 [04:08&lt;00:00, 82.87s/it]"
      }
     },
     "8a5c97f2cc364577a4fa01897eeafb50": {
      "model_module": "@jupyter-widgets/base",
      "model_module_version": "1.2.0",
      "model_name": "LayoutModel",
      "state": {
       "margin": "0px 0px 0px 37px",
       "width": "600px"
      }
     },
     "9409885a0758488abea517b17351f7cc": {
      "model_module": "@jupyter-widgets/controls",
      "model_module_version": "1.5.0",
      "model_name": "DescriptionStyleModel",
      "state": {
       "description_width": ""
      }
     },
     "98290d2fdd8445718fa93282e6694123": {
      "model_module": "@jupyter-widgets/controls",
      "model_module_version": "1.5.0",
      "model_name": "HBoxModel",
      "state": {
       "children": [
        "IPY_MODEL_9a567bb7ffc94d3fb36e5ed3da32443e",
        "IPY_MODEL_7daae1618af24fbebcd5d2dcc034d88a",
        "IPY_MODEL_81a60ded8ec34a0fbbc292ffdf700f37"
       ],
       "layout": "IPY_MODEL_3ddfef2683f2479c9c5d48d8145f292e"
      }
     },
     "9a567bb7ffc94d3fb36e5ed3da32443e": {
      "model_module": "@jupyter-widgets/controls",
      "model_module_version": "1.5.0",
      "model_name": "HTMLModel",
      "state": {
       "layout": "IPY_MODEL_1590f0912a864e25a81228d855ef2345",
       "style": "IPY_MODEL_abfda5840d35477f809fd286f38e3e4e",
       "value": "100%"
      }
     },
     "a6260ece3c8943208ebbb604fd72a1bb": {
      "model_module": "@jupyter-widgets/base",
      "model_module_version": "1.2.0",
      "model_name": "LayoutModel",
      "state": {}
     },
     "a71c85cb968b4a0f8d6002a7e5e26e07": {
      "model_module": "@jupyter-widgets/controls",
      "model_module_version": "1.5.0",
      "model_name": "HTMLModel",
      "state": {
       "layout": "IPY_MODEL_65662a83730f4dc687877ce19d20e0a6",
       "style": "IPY_MODEL_7fc8a852d11e4d2c9107fd541cd122dd",
       "value": "100%"
      }
     },
     "abfda5840d35477f809fd286f38e3e4e": {
      "model_module": "@jupyter-widgets/controls",
      "model_module_version": "1.5.0",
      "model_name": "DescriptionStyleModel",
      "state": {
       "description_width": ""
      }
     },
     "b57095d60c5348479e96dfb6106db115": {
      "model_module": "@jupyter-widgets/controls",
      "model_module_version": "1.5.0",
      "model_name": "FloatProgressModel",
      "state": {
       "bar_style": "success",
       "layout": "IPY_MODEL_a6260ece3c8943208ebbb604fd72a1bb",
       "max": 3,
       "style": "IPY_MODEL_40abb131e70e46b7bbcd1dc8fe13e54c",
       "value": 3
      }
     },
     "c658aa04c2cf4ce4b61fd7379e516c64": {
      "model_module": "@jupyter-widgets/controls",
      "model_module_version": "1.5.0",
      "model_name": "DescriptionStyleModel",
      "state": {
       "description_width": ""
      }
     },
     "ce707b18b4f0478098dfa431dcfafcf6": {
      "model_module": "@jupyter-widgets/base",
      "model_module_version": "1.2.0",
      "model_name": "LayoutModel",
      "state": {
       "grid_template_areas": "\n                                       \". . . . right \"\n                                        ",
       "grid_template_columns": "20% 20% 20% 20% 20%",
       "width": "100%"
      }
     },
     "d3d191296eaa480d97dd35247300c254": {
      "model_module": "@jupyter-widgets/controls",
      "model_module_version": "1.5.0",
      "model_name": "HTMLModel",
      "state": {
       "layout": "IPY_MODEL_7296050c397a46678ff277132fe523ae",
       "style": "IPY_MODEL_688d8c5351354553a4b75f7ac7b89a7d",
       "value": "<h5>Queue</h5>"
      }
     },
     "d4c5410796d54ab2af5b523bf0421020": {
      "model_module": "@jupyter-widgets/base",
      "model_module_version": "1.2.0",
      "model_name": "LayoutModel",
      "state": {
       "width": "145px"
      }
     },
     "dc7a06faacca4329ada16f2fd652a320": {
      "model_module": "@jupyter-widgets/controls",
      "model_module_version": "1.5.0",
      "model_name": "ButtonStyleModel",
      "state": {}
     },
     "df10c4ee84aa4516b3b0914c52757194": {
      "model_module": "@jupyter-widgets/controls",
      "model_module_version": "1.5.0",
      "model_name": "HBoxModel",
      "state": {
       "children": [
        "IPY_MODEL_743d371a4e0e413c9f251d040e0bd2e0",
        "IPY_MODEL_6634b46bd11a48f6bec8528134ae893e",
        "IPY_MODEL_15922c2fd02245ba91843c5ac86ccb62",
        "IPY_MODEL_d3d191296eaa480d97dd35247300c254",
        "IPY_MODEL_291b3a03544b4ea4b3f84d7019f10056"
       ],
       "layout": "IPY_MODEL_8a5c97f2cc364577a4fa01897eeafb50"
      }
     },
     "e5632337fde94906b80d15335984b2a3": {
      "model_module": "@jupyter-widgets/controls",
      "model_module_version": "1.5.0",
      "model_name": "HTMLModel",
      "state": {
       "layout": "IPY_MODEL_ecca25dcee0044aa90b17bcf286455cb",
       "style": "IPY_MODEL_3da72acc74754c8b87593eac4047f0d9",
       "value": " 3/3 [01:03&lt;00:00, 21.11s/it]"
      }
     },
     "ecca25dcee0044aa90b17bcf286455cb": {
      "model_module": "@jupyter-widgets/base",
      "model_module_version": "1.2.0",
      "model_name": "LayoutModel",
      "state": {}
     },
     "f156259d335e4fbebb72ece8018ea692": {
      "model_module": "@jupyter-widgets/base",
      "model_module_version": "1.2.0",
      "model_name": "LayoutModel",
      "state": {
       "width": "190px"
      }
     },
     "f5f042bb522b4483b5ca6d68fbe595be": {
      "model_module": "@jupyter-widgets/controls",
      "model_module_version": "1.5.0",
      "model_name": "HBoxModel",
      "state": {
       "children": [
        "IPY_MODEL_a71c85cb968b4a0f8d6002a7e5e26e07",
        "IPY_MODEL_b57095d60c5348479e96dfb6106db115",
        "IPY_MODEL_e5632337fde94906b80d15335984b2a3"
       ],
       "layout": "IPY_MODEL_430e997c66014acd988549f4a400a4d7"
      }
     }
    },
    "version_major": 2,
    "version_minor": 0
   }
  }
 },
 "nbformat": 4,
 "nbformat_minor": 5
}
