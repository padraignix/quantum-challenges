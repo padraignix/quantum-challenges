{
 "cells": [
  {
   "cell_type": "markdown",
   "id": "19122193-49e5-4cf1-92bb-ef35a7f27cef",
   "metadata": {},
   "source": [
    "# Transpiler Lab\n",
    "\n",
    "## Table of contents\n",
    "\n",
    "- 1. Prologue - What is transpiler\n",
    "- 2. Transpile with Preset Pass Managers\n",
    "    - Optimization levels\n",
    "    - Transpiler Stage Details with Options\n",
    "    - (extras) Plugins and ecosystem projects\n",
    "- 3. Build your own Pass Managers with Staged Pass Manager\n",
    "- 4. Epilogue"
   ]
  },
  {
   "cell_type": "markdown",
   "id": "40613815-8f98-46be-af3f-bdc0b0065a9c",
   "metadata": {},
   "source": [
    "# 0.  environment check and setup"
   ]
  },
  {
   "cell_type": "markdown",
   "id": "82a0cb47-e1b5-4624-bb2f-d420741a43c2",
   "metadata": {},
   "source": [
    "Dev env:\n",
    "\n",
    "- Python version is:  3.10.14 (main, Mar 21 2024, 11:24:58) [Clang 14.0.6 ]\n",
    "- Qiskit version is:  1.0.2\n",
    "- Runtime version is:  0.23.0\n",
    "- Qiskit Aer version is:  0.14.1"
   ]
  },
  {
   "cell_type": "code",
   "execution_count": null,
   "id": "1ff1c1d1-c378-457e-851c-ee38c718acec",
   "metadata": {},
   "outputs": [],
   "source": [
    "import qiskit, qiskit_ibm_runtime, qiskit_aer, sys\n",
    "\n",
    "print(\"Python version is: \", sys.version)\n",
    "print(\"Qiskit version is: \", qiskit.version.VERSION)\n",
    "print(\"Runtime version is: \", qiskit_ibm_runtime.version.VERSION)\n",
    "print(\"Qiskit Aer version is: \", qiskit_aer.version.VERSION)"
   ]
  },
  {
   "cell_type": "markdown",
   "id": "85b7f8cb-b561-4ea5-af67-32cab85480f2",
   "metadata": {},
   "source": [
    "# 1. Prologue - What is transpiler"
   ]
  },
  {
   "cell_type": "markdown",
   "id": "0d18fa3b-416a-4de6-bae4-09dbd863ed90",
   "metadata": {},
   "source": [
    "Transpilation is the process of rewriting a given input circuit to an equivalent circuit for a specific quantum device, and/or to optimize the circuit for execution on a real quantum systems, in terms of basis gate set, topology of the quantum chips and timing constraints, etc. The goal of a transpiler is to get the best performance from a noisy quantum hardware so most circuits must undergo a series of transformations that make them compatible with a given target device, and optimize them to reduce the effects of noise on the resulting outcomes. \n",
    "\n",
    "The process of transpilation will take a circuit which contains your instructions:\n",
    "\n",
    "<img src=\"https://docs.quantum.ibm.com/_next/image?url=%2Fimages%2Ftranspile%2Fpre-transpiled.png&w=640&q=75\"/>\n",
    "\n",
    "And transform it such that only instructions available on a chosen backend are used, and optimizes those instructions in order to minimize the effects of noise:\n",
    "\n",
    "<img src=\"https://docs.quantum.ibm.com/_next/image?url=%2Fimages%2Ftranspile%2Ftranspiled.png&w=1920&q=75\"/>"
   ]
  },
  {
   "cell_type": "markdown",
   "id": "c1b3564f-b96a-4cf2-9bdb-8fa63b104505",
   "metadata": {},
   "source": [
    "A central component of the Qiskit SDK, the transpiler is designed for modularity and extensibility. Its main goal is to write new circuit transformations (known as transpiler passes), and combine them with other existing passes, greatly reducing the depth and complexity of quantum circuits. Which passes are chained together and in which order has a major effect on the final outcome. This pipeline is determined by the [PassManager](https://docs.quantum.ibm.com/api/qiskit/qiskit.transpiler.PassManager) and [StagedPassManager](https://docs.quantum.ibm.com/api/qiskit/qiskit.transpiler.StagedPassManager) objects. The `StagedPassManager` orchestrates the execution of one or more `PassManagers` and determines the order in which they are executed, while the `PassManager` object is merely a collection of one or more passes. Think of the `StagedPassManager` as the conductor in an orchestra, the `PassManagers` as the different instrument sections, and the `Pass` objects as the individual musicians. In this way, you can compose hardware-efficient quantum circuits that let you execute utility-scale work while keeping noise manageable."
   ]
  },
  {
   "cell_type": "markdown",
   "id": "9f5929ce-0456-47a3-87e1-e24f9877dc4d",
   "metadata": {},
   "source": [
    "\n",
    "Rewriting quantum circuits to match hardware constraints and optimizing for performance can be far from trivial and Qiskit provide users the standard compilation flow follows the structure given below:\n",
    "\n",
    "<img src=\"https://docs.quantum.ibm.com/_next/image?url=%2Fimages%2Fapi%2Fqiskit%2Ftranspiling_core_steps.png&w=3840&q=75\"/>\n",
    "\n",
    "\n",
    "Qiskit has four pre-built transpilation pipelines. By default the preset pass managers are composed of six stages with several options of each stages:\n",
    "\n",
    "- `Init`: This pass runs any initial passes that are required before we start embedding the circuit to the system. This typically involves unrolling custom instructions and converting the circuit to all single- and two-qubit gates. (By default this will just validate the circuit instructions and translate multi-qubit gates into single- and two-qubit gates.)\n",
    "  \n",
    "- `Layout`: This stage applies a layout, mapping the virtual qubits in the circuit to the physical qubits on a backend.\n",
    "\n",
    "- `Routing`: This stage runs after a layout has been applied and will inject gates (i.e. swaps) into the original circuit to make it compatible with the backend’s connectivity.\n",
    "  \n",
    "- `Translation`: This stage translates the gates in the circuit to the target backend’s basis set.\n",
    "- `Optimization`: This stage runs the main optimization loop repeatedly until a condition (such as fixed depth) is reached.\n",
    "- `Scheduling`: This stage is for any hardware-aware scheduling passes.\n",
    "\n",
    "If you are not familiar with quantum circuit optimization by transpiling, the best would be use one of these ready-made routines. Qiskit also prepared 4 pre-defined level of transpilation that users can choose according to their aim. Also, you can modifying these preset pass managers. And in addition to this, it is also possible to construct a pass manager to build an entirely custom pipeline for transforming input circuits. \n",
    "\n",
    "After checking your understanding on each transpiling stage, let's take how to use Qiskit's 6 transpile stages with `preset_pass_managers`"
   ]
  },
  {
   "cell_type": "markdown",
   "id": "cf273e41-76a0-4986-9257-cd592373f77c",
   "metadata": {},
   "source": [
    "<div class=\"alert alert-block alert-info\">\n",
    "Exercise 1: \n",
    "\n",
    "Please match correct answers of each transpilation stages by complete below cells. \n",
    "\n",
    "- A. This stage centered around reduce the number of circuit operations and the depth of circuits with serveral optimization options.\n",
    "- B. This stage inserts the appropriate amount of SWAP gates in order to execute the circuits using the selected layout.\n",
    "- C. this stage is used to translate any gates that operate on more than two qubits, into gates that only operate on one or two qubits.\n",
    "- D. This stage execute a sequence of gates, a one-to-one mapping from the \"virtual\" qubits to the \"physical\" qubits in an actual quantum device.\n",
    "- E. this pass can be thought of as explicitly inserting hardware-aware operation like delay instructions to account for the idle time between gate executions, etc.\n",
    "- F. This stage translates (or unrolls) the gates specified in a circuit to the native basis gates of a specified backend\n",
    "\n",
    "<b>note</b> The answer will be a single capital letter with quotation mark like \"A\"\n",
    "\n",
    "</div>"
   ]
  },
  {
   "cell_type": "code",
   "execution_count": null,
   "id": "3094f28d-79b4-4758-bd0e-1024cc337740",
   "metadata": {},
   "outputs": [],
   "source": [
    "\n",
    "ans = {}\n",
    "ans[\"init\"] = \n",
    "ans[\"layout\"] = \n",
    "ans[\"routing\"] = \n",
    "ans[\"translation\"] = \n",
    "ans[\"optimization\"] = \n",
    "ans[\"scheduling\"] = "
   ]
  },
  {
   "cell_type": "code",
   "execution_count": null,
   "id": "dd9a6b1c-5aaf-4579-b211-300db04df57d",
   "metadata": {},
   "outputs": [],
   "source": [
    "\n",
    "from qc_grader.challenges.iqc_2024 import grade_lab3_ex1\n",
    "\n",
    "grade_lab3_ex1(ans)"
   ]
  },
  {
   "cell_type": "markdown",
   "id": "555fa842-d6f0-4fad-83f1-07951a5efc60",
   "metadata": {},
   "source": [
    "# 2. Transpile with Preset Pass Managers"
   ]
  },
  {
   "cell_type": "markdown",
   "id": "08a7f683-4086-49be-9988-ab1a3b22854b",
   "metadata": {},
   "source": [
    "In this part, we will explore how to use Qiskit's standard six transpiler passes. Especially, for your convenience, we will first look at the four pre-defined transpile pipelines, and see how to build your own PassManager through a practice that uses the features and options of each pass with a pre-defined pipeline.\n",
    "\n",
    "First, let's look at what Passmanager and 'generate_preset_pass_manager' are. This part and later parts refers frequently to [IBM Quantum's Document](https://docs.quantum.ibm.com/transpile) and [API Document](https://docs.quantum.ibm.com/api/qiskit/transpiler) on transpiler, so we recommend you look at them together.\n",
    "\n",
    "\n",
    "### What is a (staged) pass manager?\n",
    "\n",
    "A pass manager is an object that stores a list of transpiler passes and can execute them on a circuit. Create a pass manager by initializing a [PassManager](https://docs.quantum.ibm.com/api/qiskit/qiskit.transpiler.PassManager) with a list of transpiler passes. To run the transpilation on a circuit, call the [run](https://docs.quantum.ibm.com/api/qiskit/qiskit.transpiler.PassManager#run) method with a circuit as input.\n",
    "\n",
    "A staged pass manager is a special kind of pass manager that represents a level of abstraction above that of a normal pass manager. While a normal pass manager is composed of several transpiler passes, a staged pass manager is composed of several pass managers. This is a useful abstraction because transpilation typically happens in discrete stages, as described in Transpiler stages, with each stage being represented by a pass manager. Staged pass managers are represented by the [StagedPassManager](https://docs.quantum.ibm.com/transpile/transpiler-stages) class. \n",
    "\n",
    "\n",
    "\n",
    "### `Preset Passmanagers` and `generate_preset_pass_manager`\n",
    "\n",
    "Preset Passmanagers(`qiskit.transpiler.preset_passmanagers`) contains functions for generating the preset pass managers for the transpiling. The preset pass managers are instances of StagedPassManager which are used to execute the circuit transformations at the different optimization levels, the pre-defined transpiling pipeline. Here we introduce the functions used generate the entire pass manager by using `generate_preset_pass_manager`\n",
    "\n",
    "`generate_preset_pass_manager` is used to quickly generate a preset pass manager. This function provides a convenient and simple method to construct a standalone `PassManager` object with optimization levels and options of each passes.\n",
    "\n",
    "Let's first take a look at what is the optimization level and how it works.\n",
    "\n",
    "## Optimization levels\n",
    "\n",
    "The `generate_preset_pass_manager` function has one required positional argument, optimization_level, that controls how much effort the transpiler spends on optimizing circuits. This argument can be an integer taking one of the values 0, 1, 2, or 3. Higher optimization levels generate more optimized circuits at the expense of longer compile times. \n"
   ]
  },
  {
   "cell_type": "markdown",
   "id": "417605eb-15ae-47e2-886e-446275648831",
   "metadata": {},
   "source": [
    "<div class=\"alert alert-block alert-info\">\n",
    "Exercise 2: Build a function to `evaluate` transpiled circuit\n",
    "</div>\n",
    "\n",
    "Since the goal of transpiling is to improve the actual execution performance of the circuit, we will create and use a function that measures the performance of the translated circuit very simply for future exercise. We will use `FakeBackendV2` of `qiskit-ibm-runtime` package for this whole lab, and let's make a function which receives transpiled circuit, its **final layout** and it's target backend as its inputs and return score of circuit which **closer to 0 is the better**. \n",
    "\n",
    "we already made a helper function and to use it, you need to get the final layout of transpiled circuit. After take a look at these two documents - [layout part of QuantumCircuit API Document](https://docs.quantum.ibm.com/api/qiskit/qiskit.circuit.QuantumCircuit#layout) and [TranspileLayout part of Qiskit Transpiler API Documents](https://docs.quantum.ibm.com/api/qiskit/qiskit.transpiler.TranspileLayout), complete the code to complete functions.\n"
   ]
  },
  {
   "cell_type": "code",
   "execution_count": null,
   "id": "768bc71b-be76-4e96-a870-b17f99f1e479",
   "metadata": {},
   "outputs": [],
   "source": [
    "def scoring( qc, backend):\n",
    "    from util import transpile_scoring\n",
    "    \n",
    "    layout = #fill this part\n",
    "    fidelity = transpile_scoring(qc, layout, backend)\n",
    "    score = #fill this part\n",
    "    \n",
    "    return score"
   ]
  },
  {
   "cell_type": "code",
   "execution_count": null,
   "id": "a7b84a84-7c87-4419-adf0-fc646d93effd",
   "metadata": {},
   "outputs": [],
   "source": [
    "grade_lab3_ex2(scoring)"
   ]
  },
  {
   "cell_type": "markdown",
   "id": "cad37e66-b684-419c-9cc0-9f14ef393cff",
   "metadata": {},
   "source": [
    "Now that you have a function to measure the performance of a transposed circuit, let's get into the our transpiler practice.\n",
    "\n",
    "First, let's import esssential libraries. \n",
    "\n",
    "<div class=\"alert alert-block alert-warning\">\n",
    "<b>Be careful!</b>\n",
    "    \n",
    "To pass the grader, don't update random seeds - `seed` and `seed_transpiler` - values through the whole lab.\n",
    "</div>"
   ]
  },
  {
   "cell_type": "code",
   "execution_count": null,
   "id": "867b1a7e-acb4-4f69-a913-df9ddcbd830e",
   "metadata": {},
   "outputs": [],
   "source": [
    "from qiskit.circuit.random import random_circuit\n",
    "from qiskit_ibm_runtime.fake_provider import FakeTorino, FakeOsaka\n",
    "from qiskit.transpiler.preset_passmanagers import generate_preset_pass_manager\n",
    "from qiskit.transpiler.preset_passmanagers.plugin import list_stage_plugins\n",
    "from qiskit.transpiler.timing_constraints import TimingConstraints\n",
    "from qiskit.visualization.timeline import draw, IQXDebugging, IQXSimple, IQXStandard\n",
    "from qiskit.transpiler import StagedPassManager\n",
    "from qiskit.visualization import plot_circuit_layout\n",
    "import matplotlib.pyplot as plt\n",
    "\n",
    "\n",
    "seed = 10000"
   ]
  },
  {
   "cell_type": "code",
   "execution_count": null,
   "id": "f16a1d6b-8336-47ed-bf79-8e759679bc09",
   "metadata": {},
   "outputs": [],
   "source": [
    "## create random circuit. Do not change the seed value\n",
    "\n",
    "num_qubits = 6\n",
    "depth = 4\n",
    "qc = random_circuit(num_qubits,depth,measure=False, seed=seed)\n",
    "\n",
    "qc.draw('mpl')"
   ]
  },
  {
   "cell_type": "markdown",
   "id": "4cdc7d66-67b0-4988-953f-dfab85139d3c",
   "metadata": {},
   "source": [
    "Now, to test the performance of each optimization levels, let's bring `FakeTorino` which has conectivity and noise feature of IBM's latest quantum backend, ibm_torino, which has Heron and save it as a `backend`"
   ]
  },
  {
   "cell_type": "code",
   "execution_count": null,
   "id": "62fd1bd1-ff09-4e9d-bbc1-7bae6c655e8f",
   "metadata": {},
   "outputs": [],
   "source": [
    "backend = FakeTorino()"
   ]
  },
  {
   "cell_type": "markdown",
   "id": "8393436f-d8c1-42fd-ab82-8c6830ab6146",
   "metadata": {},
   "source": [
    "<div class=\"alert alert-block alert-success\">\n",
    "Please refer <a href=\"https://docs.quantum.ibm.com/transpile/set-optimization\">this official document</a> for more understandings on optimization_level\n",
    "</div>\n",
    "\n",
    "\n",
    "### Optimization level = 0\n",
    "\n",
    "Optimization level 0 is intended for **device characterization experiments** and, as such, only maps the input circuit to the constraints of the target backend, without performing any optimizations. It performs Layout/Routing with [TrivialLayout](https://docs.quantum.ibm.com/api/qiskit/qiskit.transpiler.passes.TrivialLayout#triviallayout), where it selects the same physical qubit numbers as virtual and inserts SWAPs to make it work (using [StochasticSwap](https://docs.quantum.ibm.com/api/qiskit/qiskit.transpiler.passes.StochasticSwap#stochasticswap)).\n",
    "\n",
    "Let's make a passmanager with optimization level = 0 with FakeTorino backend and see the result."
   ]
  },
  {
   "cell_type": "code",
   "execution_count": null,
   "id": "b2193548-33ea-4fe7-ade3-8a919c5bf447",
   "metadata": {},
   "outputs": [],
   "source": [
    "\n",
    "pm_lv0 = generate_preset_pass_manager(backend=backend, optimization_level=0, seed_transpiler=seed)\n",
    "\n",
    "tr_lv0 = pm_lv0.run(qc)\n",
    "tr_lv0.draw('mpl', idle_wires=False, fold=60)"
   ]
  },
  {
   "cell_type": "markdown",
   "id": "ce7135c2-a804-4898-baf2-49bad0049f1c",
   "metadata": {},
   "source": [
    "As explained, optimization_level=0 is performing a basic gate decomposition by using basis gates of backend and mapping logical qubit to physical qubits just with a same order of number. To compare with other levels, lets compute the score of this circuit and save its circuit depth and the sum of total gate numbers."
   ]
  },
  {
   "cell_type": "code",
   "execution_count": 1,
   "id": "060e432f-52c3-40b3-9193-9c6d19917cb6",
   "metadata": {},
   "outputs": [],
   "source": [
    "circuit_depths = {\n",
    "    'opt_lv_0': None,\n",
    "    'opt_lv_1': None,\n",
    "    'opt_lv_2': None,\n",
    "    'opt_lv_3': None,\n",
    "}\n",
    "gate_counts = {\n",
    "    'opt_lv_0': None,\n",
    "    'opt_lv_1': None,\n",
    "    'opt_lv_2': None,\n",
    "    'opt_lv_3': None,\n",
    "}\n",
    "\n",
    "scores = {\n",
    "    'opt_lv_0': None,\n",
    "    'opt_lv_1': None,\n",
    "    'opt_lv_2': None,\n",
    "    'opt_lv_3': None,\n",
    "}"
   ]
  },
  {
   "cell_type": "code",
   "execution_count": null,
   "id": "437225b8-79f9-4547-b0a7-2ff2f2f30a9a",
   "metadata": {},
   "outputs": [],
   "source": [
    "\n",
    "\n",
    "# your code here#\n",
    "depth = \n",
    "gate_count = \n",
    "score = \n",
    "\n",
    "circuit_depths.append(depth)\n",
    "gate_counts.append(gate_count)\n",
    "scores.append(score)\n",
    "\n",
    "print(\"Circuit depth of tanspiled circuit with optimization_level = 0 is \", depth)\n",
    "print(\"Total numbe of gates of tanspiled circuit with optimization_level = 0 is \", gate_count)\n",
    "print(\"Score of tanspiled circuit with optimization_level = 0 is \", score)"
   ]
  },
  {
   "cell_type": "markdown",
   "id": "e10f59e4-ecee-4e71-8a8e-37880ddf7ffc",
   "metadata": {},
   "source": [
    "### Optimization level = 1\n",
    "\n",
    "Optimization level 1 performs a **`Light optimization`**. \n",
    "\n",
    "- Layout/Routing: Layout is first attempted with [TrivialLayout](https://docs.quantum.ibm.com/api/qiskit/qiskit.transpiler.passes.TrivialLayout#triviallayout). If additional SWAPs are required, a layout with a minimum number of SWAPs is found by using [SabreSWAP](https://docs.quantum.ibm.com/api/qiskit/qiskit.transpiler.passes.SabreSwap#sabreswap), then it uses [VF2LayoutPostLayout](https://docs.quantum.ibm.com/api/qiskit/qiskit.transpiler.passes.VF2PostLayout)` to try to select the best qubits in the graph.\n",
    "- [InverseCancellation](https://docs.quantum.ibm.com/api/qiskit/qiskit.transpiler.passes.InverseCancellation#inversecancellation)\n",
    "- [1Q gate optimization](https://docs.quantum.ibm.com/api/qiskit/qiskit.transpiler.passes.Optimize1qGates#optimize1qgates)\n",
    "\n",
    "Let's make a passmanager by using **generate_preset_pass_manager** with optimization level = 1 with FakeTorino backend with seed_transpiler=seed by yourself and see the result!!"
   ]
  },
  {
   "cell_type": "code",
   "execution_count": null,
   "id": "c81db96e-aa03-4418-a089-5d5b5ffa90bf",
   "metadata": {},
   "outputs": [],
   "source": [
    "# complete code by yourself\n",
    "\n",
    "pm_lv1 = # your code here#\n",
    "\n",
    "tr_lv1 = pm_lv1.run(qc)\n",
    "tr_lv1.draw('mpl', idle_wires=False, fold=60)"
   ]
  },
  {
   "cell_type": "markdown",
   "id": "66846d83-15f9-474a-a087-0cba27ce8466",
   "metadata": {},
   "source": [
    "Like explained,  you can see logical qubit mapped into different physical qubit sets and smaller number of gates. Let's save and print out some important matrixes."
   ]
  },
  {
   "cell_type": "code",
   "execution_count": null,
   "id": "afead797-e0ee-4abb-b264-7720ca6b66bb",
   "metadata": {},
   "outputs": [],
   "source": [
    "#your_code here\n",
    "depth =\n",
    "gate_count = \n",
    "score = \n",
    "#your code here\n",
    "\n",
    "circuit_depths['opt_lv_1'] = depth\n",
    "gate_counts['opt_lv_1'] = gate_count\n",
    "scores['opt_lv_1'] = score\n",
    "\n",
    "print(\"Circuit depth of tanspiled circuit with optimization_level = 1 is \", depth)\n",
    "print(\"Total numbe of gates of tanspiled circuit with optimization_level = 1 is \", gate_count)\n",
    "print(\"Score of tanspiled circuit with optimization_level = 1 is \", score)"
   ]
  },
  {
   "cell_type": "markdown",
   "id": "3f295036-9206-4c4e-9972-30c7f1e2b9c7",
   "metadata": {},
   "source": [
    "#### Optimization level = 2\n",
    "\n",
    "Optimization level 2 performs a **`Medium optimization`**:\n",
    "\n",
    "- Layout/Routing: Optimization level 1 (without trivial) + heuristic optimized with greater search depth and trials of optimization function. Because [TrivialLayout](https://docs.quantum.ibm.com/api/qiskit/qiskit.transpiler.passes.TrivialLayout#triviallayout) is not used, there is no attempt to use the same physical and virtual qubit numbers.\n",
    "- [CommutativeCancellation](https://docs.quantum.ibm.com/api/qiskit/qiskit.transpiler.passes.CommutativeCancellation#commutativecancellation)\n",
    "\n",
    "Let's make a passmanager with optimization level = 2 with FakeTorino backend with seed_transpiler=seed and see the result."
   ]
  },
  {
   "cell_type": "code",
   "execution_count": null,
   "id": "442d02a6-dbf6-4fdc-b0c0-1809a8a033fe",
   "metadata": {},
   "outputs": [],
   "source": [
    "pm_lv2 = # your code here\n",
    "\n",
    "tr_lv2 = pm_sim_lv2.run(qc)\n",
    "tr_lv2.draw('mpl', fold=60)"
   ]
  },
  {
   "cell_type": "markdown",
   "id": "1eb4c089-8a29-4973-af0e-558bcc39def8",
   "metadata": {},
   "source": [
    "Even at a glance, we can see that the number of gates has decreased a lot. The physical qubit to which the logical qubit mapping remains unchanged. Now, let's measure the performance of transpiling. It is the same code above."
   ]
  },
  {
   "cell_type": "code",
   "execution_count": null,
   "id": "a3bb449c-dff4-4dc7-af88-5a284e1340b2",
   "metadata": {},
   "outputs": [],
   "source": [
    "depth = \n",
    "gate_count = \n",
    "score = \n",
    "\n",
    "circuit_depths['opt_lv_2'] = depth\n",
    "gate_counts['opt_lv_2'] = gate_count\n",
    "scores['opt_lv_2'] = score\n",
    "\n",
    "print(\"Circuit depth of tanspiled circuit with optimization_level = 2 is \", depth)\n",
    "print(\"Total numbe of gates of tanspiled circuit with optimization_level = 2 is \", gate_count)\n",
    "print(\"Score of tanspiled circuit with optimization_level = 2 is \", score)"
   ]
  },
  {
   "cell_type": "markdown",
   "id": "9b408a29-a979-419e-b248-385a8d868797",
   "metadata": {},
   "source": [
    "#### Optimization level = 3\n",
    "\n",
    "Optimization level 3 performs a **`High Optimization`**:\n",
    "\n",
    "- Optimization level 2 + heuristic optimized on layout/routing further with greater effort/trials\n",
    "- Resynthesis of two-qubit blocks using [Cartan's KAK Decomposition](https://arxiv.org/abs/quant-ph/0507171).\n",
    "- Unitarity-breaking passes:\n",
    "    - `OptimizeSwapBeforeMeasure`: Remove swaps in front of measurements by re-targeting\n",
    "    the classical bit of the measure instruction to avoid SWAPs\n",
    "    - `RemoveDiagonalGatesBeforeMeasure`: Remove diagonal gates (like RZ, T, Z, etc) before\n",
    "    a measurement. Including diagonal 2Q gates.\n",
    "\n",
    "Now you will know what you need to do."
   ]
  },
  {
   "cell_type": "code",
   "execution_count": null,
   "id": "fd852fe6-49c4-49d9-8619-5d326b17a5d3",
   "metadata": {},
   "outputs": [],
   "source": [
    "pm_lv3 = \n",
    "\n",
    "tr_lv3 = \n",
    "tr_lv3.draw('mpl', idle_wires=False, fold=60)"
   ]
  },
  {
   "cell_type": "markdown",
   "id": "e83bc48a-398b-49a0-bbb0-ddcf0fa3057e",
   "metadata": {},
   "source": [
    "Surprising! Now we have a less number of gates! Can't wait to see how it worked."
   ]
  },
  {
   "cell_type": "code",
   "execution_count": null,
   "id": "c926c527-37c9-4b9c-8fbf-2ceaf0555668",
   "metadata": {},
   "outputs": [],
   "source": [
    "depth = \n",
    "gate_count = \n",
    "score = \n",
    "\n",
    "circuit_depths['opt_lv_3'] = depth\n",
    "gate_counts['opt_lv_3'] = gate_count\n",
    "scores['opt_lv_3'] = score\n",
    "\n",
    "print(\"Circuit depth of tanspiled circuit with optimization_level = 3 is \", depth)\n",
    "print(\"Total numbe of gates of tanspiled circuit with optimization_level = 3 is \", gate_count)\n",
    "print(\"Score of tanspiled circuit with optimization_level = 3 is \", score)"
   ]
  },
  {
   "cell_type": "markdown",
   "id": "cc0ea866-27ef-4557-8135-56c7899eae16",
   "metadata": {},
   "source": [
    "Let's graph how much the depth of the circuit, the number of gates, and the evaluation score have changed according to each optimization level."
   ]
  },
  {
   "cell_type": "code",
   "execution_count": null,
   "id": "1f9ba7c4-0b6f-4b9c-a454-0edffc20becb",
   "metadata": {},
   "outputs": [],
   "source": [
    "ax = list(circuit_depths.keys())\n",
    "\n",
    "\n",
    "fig, (ax1, ax2, ax3) = plt.subplots(3, 1)\n",
    "ax1.semilogy(ax, [circuit_depths[key] for key in ax],'o-',markersize=5, label=\"Depth\")\n",
    "ax1.set_xlabel(\"optimization level\")\n",
    "ax1.set_ylabel(\"Depth\")\n",
    "ax1.legend()\n",
    "ax1.set_title(\"Circuit depth of the transpiled circuit\")\n",
    "ax2.semilogy(ax, [gate_counts[key] for key in ax],'^-',markersize=5, label=\"Counts\")\n",
    "ax2.set_xlabel(\"optimization level\")\n",
    "ax2.set_ylabel(\"# of total gates\")\n",
    "ax2.legend()\n",
    "ax2.set_title(\"Total number of gates in the transpiled circuit\")\n",
    "ax3.semilogy(ax, [scores[key] for key in ax],'*-',markersize=5, label=\"Score\")\n",
    "ax3.set_xlabel(\"optimization level\")\n",
    "ax3.set_ylabel(\"Score\")\n",
    "ax3.legend()\n",
    "ax3.set_title(\"Score of the transpiled circuit\")\n",
    "fig.tight_layout()\n",
    "plt.show()"
   ]
  },
  {
   "cell_type": "markdown",
   "id": "29f2d8e9-0bda-43f7-86a6-d0e81396fee1",
   "metadata": {},
   "source": [
    "<div class=\"alert alert-block alert-info\">\n",
    "Exercise 3:\n",
    "\n",
    "Submit 4 passmanagers and see if you did correct. Please make sure you didn't updated random seed values.\n",
    "</div>\n"
   ]
  },
  {
   "cell_type": "code",
   "execution_count": null,
   "id": "33e668a7-4f84-4a47-ad9f-87047930b920",
   "metadata": {},
   "outputs": [],
   "source": [
    "from lab3_grader import grade_lab3_ex3\n",
    "\n",
    "ans = [pm_lv0, pm_lv1, pm_lv2, pm_lv3]\n",
    "\n",
    "grade_lab3_ex3(ans)"
   ]
  },
  {
   "cell_type": "markdown",
   "id": "b5cd4333-133b-4728-8032-538fc32c5b7b",
   "metadata": {},
   "source": [
    "## Transpiler Stage Details with Options\n",
    "\n",
    "So far, we've looked at four predefined transpiller pipelines offered by Qiskit using random circuits. One of the key features of Qiskit 1.0 transpiller is to make it easy for users to  custom Passmanager. The easiest way is to configure your own Passmanager by using six standard passes along with the optimization level discussed above, but choosing the option or plug-in for each pass as you like, and another way is to create Passmanager with as many passes as you want by using `StagedPassManager`. In addition, you can create and deploy a new PassManager and implement it in the form of Plugin in Qiskit so that other users can use it.\n",
    "\n",
    "Let's look at all three of them in the following sections. Let's look at the easiest way first.\n",
    "\n",
    "### 1. Init stage\n",
    "\n",
    "This first stage does very little by default and is primarily useful if you want to include your own initial optimizations. Because most layout and routing algorithms are only designed to work with single- and two-qubit gates, this stage is also used to translate any gates that operate on more than two qubits, into gates that only operate on one or two qubits.\n",
    "\n",
    "If you specify an argument at this stage for the qubits you want to use, that value overrides all the passes that could change it. You can find more details at [this document](https://docs.quantum.ibm.com/transpile/defaults-and-configuration-options)\n",
    "\n",
    "First, let's check possible options of init stage we can use."
   ]
  },
  {
   "cell_type": "code",
   "execution_count": null,
   "id": "1669b5e4-b560-4138-a732-03e5c49a0d87",
   "metadata": {},
   "outputs": [],
   "source": [
    "list_stage_plugins(\"init\")"
   ]
  },
  {
   "cell_type": "markdown",
   "id": "97a46352-d341-4780-b67c-034f4ceb09db",
   "metadata": {},
   "source": [
    "Without extra plugins, only default option exist. This stage runs first and is typically used for any initial logical optimization. Because most layout and routing algorithms are only designed to work with 1 and 2 qubit gates, this stage is also used to translate any gates that operate on more than 2 qubits into gates that only operate on 1 or 2 qubits. This process includes several transpier pass plugins depends on the `optimization_level` and let's take a look at inside of it.\n",
    "\n",
    "For this, let's create a passmanage'r with `init_method=\"default\"` options."
   ]
  },
  {
   "cell_type": "code",
   "execution_count": null,
   "id": "f3ed5d78-c784-4a14-8c1d-e70ee1da274d",
   "metadata": {},
   "outputs": [],
   "source": [
    "for i in range(4):\n",
    "    print(\"Plugins run for default init stage with optimization level\", i , \"is: \")\n",
    "    pm = generate_preset_pass_manager(backend=backend, optimization_level=i, init_method=\"default\", seed_transpiler=1000) \n",
    "    for task in pm.init.to_flow_controller().tasks:\n",
    "        print(\" -\", type(task).__name__)"
   ]
  },
  {
   "cell_type": "markdown",
   "id": "193d6451-fc70-4de9-9d77-dbb83d54ccbb",
   "metadata": {},
   "source": [
    "Here is the table of each plugin api documents, and hopefully, take a look at if you want to dive into.\n",
    "\n",
    "| plugin | Description | api document link|\n",
    "|---- | ---- | ------|\n",
    "|UnitarySynthesis| Synthesize unitaries over some basis gates. | https://docs.quantum.ibm.com/api/qiskit/qiskit.transpiler.passes.UnitarySynthesis#unitarysynthesis |\n",
    "|HighLevelSynthesis |Synthesize higher-level objects and unroll custom definitions| https://docs.quantum.ibm.com/api/qiskit/qiskit.transpiler.passes.HighLevelSynthesis#highlevelsynthesis |\n",
    "| BasisTranslator | Translates gates to a target basis by searching for a set of translations from a given EquivalenceLibrary. | https://docs.quantum.ibm.com/api/qiskit/qiskit.transpiler.passes.BasisTranslator#basistranslator |\n",
    "| InverseCancellation| Cancel specific Gates which are inverses of each other when they occur back-to- back | https://docs.quantum.ibm.com/api/qiskit/qiskit.transpiler.passes.InverseCancellation#inversecancellation |\n",
    "| OptimizeSwapBeforeMeasure | Moves the measurements around to avoid SWAPs | NA |\n",
    "| RemoveDiagonalGatesBeforeMeasure | Remove diagonal gates (including diagonal 2Q gates) before a measurement. | https://docs.quantum.ibm.com/api/qiskit/qiskit.transpiler.passes.RemoveDiagonalGatesBeforeMeasure |\n"
   ]
  },
  {
   "cell_type": "markdown",
   "id": "bd3ba3e5-9a19-4b19-9609-4c3e2302518a",
   "metadata": {},
   "source": [
    "### 2 Layout Stage\n",
    "\n",
    "The next stage involves the layout or connectivity of the backend a circuit will be sent to. In general, quantum circuits are abstract entities whose qubits are \"virtual\" or \"logical\" representations of actual qubits used in computations. To execute a sequence of gates, a one-to-one mapping from the \"virtual\" qubits to the \"physical\" qubits in an actual quantum device is necesary. This mapping is stored as a Layout object and is part of the constraints defined within a backend's instruction set architecture (ISA).\n",
    "\n",
    "<img src=\"https://docs.quantum.ibm.com/_next/image?url=%2Fimages%2Ftranspile%2Ftranspiler-stages%2Flayout-mapping.png&w=3840&q=75\" width=\"1000\"/>\n",
    "\n",
    "The choice of mapping is extremely important for minimizing the number of SWAP operations needed to map the input circuit onto the device topology and ensure the most well-calibrated qubits are used. Due to the importance of this stage, the preset pass managers try a few different methods to find the best layout. Typically this involves two steps: first, try to find a \"perfect\" layout (a layout that does not require any SWAP operations), and then, a heuristic pass that tries to find the best layout to use if a perfect layout cannot be found. There are two Passes typically used for this first step:\n",
    "\n",
    "- [TrivialLayout](https://docs.quantum.ibm.com/api/qiskit/qiskit.transpiler.passes.TrivialLayout#triviallayout): Naively maps each virtual qubit to the same numbered physical qubit on the device (i.e., [0,1,1,3] -> [0,1,1,3]). This is historical behavior only used in optimzation_level=1 to try to find a perfect layout. If it fails, VF2Layout is tried next.\n",
    "- [VF2Layout](https://docs.quantum.ibm.com/api/qiskit/qiskit.transpiler.passes.VF2Layout): This is an AnalysisPass that selects an ideal layout by treating this stage as a subgraph isomorphism problem, solved by the VF2++ algorithm. If more than one layout is found, a scoring heuristic is run to select the mapping with the lowest average error.\n",
    "  \n",
    "Then for the heuristic stage, two passes are used by default:\n",
    "\n",
    "- [DenseLayout](https://docs.quantum.ibm.com/api/qiskit/qiskit.transpiler.passes.DenseLayout): Finds the sub-graph of the device with the greatest connectivity and that has the same number of qubits as the circuit (used for optimization level 1 if there are control flow operations (such as IfElseOp) present in the circuit).\n",
    "- [SabreLayout](https://docs.quantum.ibm.com/api/qiskit/qiskit.transpiler.passes.SabreLayout): This pass selects a layout by starting from an initial random layout and repeatedly running the SabreSwap algorithm. This pass is only used in optimization levels 1, 2, and 3 if a perfect layout isn't found via the VF2Layout pass. For more details on this algorithm, refer to the paper [arXiv:1809.02573](arXiv:1809.02573).\n",
    "\n",
    "We can find these 4 passes by using same code with init stage"
   ]
  },
  {
   "cell_type": "code",
   "execution_count": null,
   "id": "5426f911-6672-410e-9ea2-c9bc43a7cd7a",
   "metadata": {},
   "outputs": [],
   "source": [
    "list_stage_plugins(\"layout\")"
   ]
  },
  {
   "cell_type": "markdown",
   "id": "28b4724c-00e7-4716-87ae-ca32bfca6b9c",
   "metadata": {},
   "source": [
    "First, let's check which tasks will be enabled by which optimization_level with `layout_method='default'` option by running below code"
   ]
  },
  {
   "cell_type": "code",
   "execution_count": null,
   "id": "bae1c796-5625-4b3d-96ef-27db476510d3",
   "metadata": {},
   "outputs": [],
   "source": [
    "for i in range(4):\n",
    "    print(\"Plugins run for layout stage with optimization level\", i , \"is: \")\n",
    "    pm = generate_preset_pass_manager(backend=backend, optimization_level=i, layout_method='default', seed_transpiler=seed)\n",
    "    qc_tr = pm.run(qc)\n",
    "\n",
    "    for controller_group in pm.layout.to_flow_controller().tasks:\n",
    "        tasks = getattr(controller_group, \"tasks\", [])\n",
    "        for task in tasks:  \n",
    "            print(\" - \" , str(type(task).__name__))\n",
    "    print(qc_tr.layout.final_index_layout())\n",
    "    display(plot_circuit_layout(pm.run(qc), backend))"
   ]
  },
  {
   "cell_type": "markdown",
   "id": "5718018f-1970-410c-9e5d-a6700d5e13f9",
   "metadata": {},
   "source": [
    "Now let's compare the score and layout of each options with optimization_level=3."
   ]
  },
  {
   "cell_type": "code",
   "execution_count": null,
   "id": "ae1c7af1-75f0-48f8-b67e-974fe48c3e3c",
   "metadata": {},
   "outputs": [],
   "source": [
    "for option in list_stage_plugins(\"layout\"):\n",
    "    \n",
    "    pm = generate_preset_pass_manager(backend=backend, optimization_level=3, layout_method=option, seed_transpiler=seed)\n",
    "    qc_tr = pm.run(qc)\n",
    "    score = scoring(qc_tr, backend)\n",
    "\n",
    "    print(\"the score of layout_method =\", option, \"is \", score, \"with layout \", qc_tr.layout.final_index_layout())"
   ]
  },
  {
   "cell_type": "markdown",
   "id": "21a0991d-b9b8-438b-8383-8eaea09b6a93",
   "metadata": {},
   "source": [
    "### 3. Routing Stage\n",
    "\n",
    "In order to implement a two-qubit gate between qubits that are not directly connected on a quantum device, one or more SWAP gates must be inserted into the circuit to move the qubit states around until they are adjacent on the device gate map. Each SWAP gate represents an expensive and noisy operation to perform. Thus, finding the minimum number of SWAP gates needed to map a circuit onto a given device is an important step in the transpilation process. For efficiency, this stage is typically computed alongside the Layout stage by default, but they are logically distinct from one another. The Layout stage selects the hardware qubits to be used, while the Routing stage inserts the appropriate amount of SWAP gates in order to execute the circuits using the selected layout.\n",
    "\n",
    "However, finding the optimal SWAP mapping is hard. In fact, it is an NP-hard problem, and is thus prohibitively expensive to compute for all but the smallest quantum devices and input circuits. To work around this, Qiskit uses a stochastic heuristic algorithm called SabreSwap to compute a good, but not necessarily optimal, SWAP mapping. The use of a stochastic method means that the circuits generated are not guaranteed to be the same over repeated runs. Indeed, running the same circuit repeatedly results in a distribution of circuit depths and gate counts at the output. It is for this reason that many users choose to run the routing function (or the entire StagedPassManager) many times and select the lowest-depth circuits from the distribution of outputs."
   ]
  },
  {
   "cell_type": "code",
   "execution_count": null,
   "id": "0132fbf8-481d-4c08-acf8-280531f01a34",
   "metadata": {},
   "outputs": [],
   "source": [
    "list_stage_plugins(\"routing\")"
   ]
  },
  {
   "cell_type": "code",
   "execution_count": null,
   "id": "4ae60079-2425-4979-bcaf-128ca52e8476",
   "metadata": {},
   "outputs": [],
   "source": [
    "for i in range(4):\n",
    "    print(\"Number of each gates of traspiled circuit with optimization level\", i , \"is: \")\n",
    "    pm = generate_preset_pass_manager(backend=backend, optimization_level=i, routing_method='basic', seed_transpiler=seed)\n",
    "    qc_tr = pm.run(qc)\n",
    "    score = scoring(qc_tr, backend)\n",
    "    for key, value in qc_tr.count_ops().items():\n",
    "        print(key, \":\", value)\n",
    "    print(\"The score of this transpiled circuit is:\", score)"
   ]
  },
  {
   "cell_type": "code",
   "execution_count": null,
   "id": "9a6d8504-9ed0-4045-bd09-d9b1aac2d262",
   "metadata": {},
   "outputs": [],
   "source": [
    "for i in range(4):\n",
    "    print(\"Plugins run for layout stage with optimization level\", i , \"is: \")\n",
    "    pm = generate_preset_pass_manager(backend=backend, optimization_level=i, routing_method='basic', seed_transpiler=1000) \n",
    "\n",
    "    for controller_group in pm.routing.to_flow_controller().tasks:\n",
    "        tasks = getattr(controller_group, \"tasks\", [])\n",
    "        for task in tasks:\n",
    "            print(\" - \" , str(type(task).__name__))\n",
    "    display(pm.routing.draw())\n",
    "    print(pm.run(qc).layout.final_index_layout())"
   ]
  },
  {
   "cell_type": "code",
   "execution_count": null,
   "id": "8fa21138-ca00-4f09-b5aa-f9887399609b",
   "metadata": {},
   "outputs": [],
   "source": [
    "## process stopped due to lookahead\n",
    "options = ['basic','sabre', 'stochastic']\n",
    "\n",
    "for option in options:\n",
    "    print(\"Number of each gates of traspiled circuit with optimization level=3 and option \", option , \"is: \")\n",
    "    pm = generate_preset_pass_manager(backend=backend, optimization_level=3, routing_method=option, seed_transpiler=seed)\n",
    "    qc_tr = pm.run(qc)\n",
    "    score = scoring(qc_tr, backend)\n",
    "    for key, value in qc_tr.count_ops().items():\n",
    "        print(key, \":\", value)\n",
    "    print(\"The score of this transpiled circuit is:\", score)"
   ]
  },
  {
   "cell_type": "markdown",
   "id": "2bfb7ca9-ec1c-4670-9a41-e3bb3a01386b",
   "metadata": {},
   "source": [
    "### 4 Translation Stage\n",
    "\n",
    "When writing a quantum circuit, you are free to use any quantum gate (unitary operation) that you like, along with a collection of non-gate operations such as qubit measurement or reset instructions. However, most quantum devices only natively support a handful of quantum gate and non-gate operations. These native gates are part of the definition of a target's ISA and this stage of the preset PassManagers translates (or unrolls) the gates specified in a circuit to the native basis gates of a specified backend. This is an important step, as it allows the circuit to be executed by the backend, but typically leads to an increase in the depth and number of gates.\n",
    "\n",
    "Two special cases are especially important to highlight, and help illustrate what this stage does.\n",
    "\n",
    "1. If a SWAP gate is not a native gate to the target backend, this requires three CNOT gates: As a product of three CNOT gates, a SWAP is an expensive operation to perform on noisy quantum devices. However, such operations are usually necessary for embedding a circuit into the limited gate connectivities of many devices. Thus, minimizing the number of SWAP gates in a circuit is a primary goal in the transpilation process.\n",
    "\n",
    "2. A Toffoli, or controlled-controlled-not gate (ccx), is a three-qubit gate. Given that our basis gate set includes only single- and two-qubit gates, this operation must be decomposed. However, it is quite costly: For every Toffoli gate in a quantum circuit, the hardware may execute up to six CNOT gates and a handful of single-qubit gates. This example demonstrates that any algorithm making use of multiple Toffoli gates will end up as a circuit with large depth and will therefore be appreciably affected by noise.\n",
    "\n",
    "let's check how many options we can use:"
   ]
  },
  {
   "cell_type": "code",
   "execution_count": null,
   "id": "74c0f1fa-1d61-4cfb-bdb7-7ffc4c85ef61",
   "metadata": {},
   "outputs": [],
   "source": [
    "list_stage_plugins(\"translation\")"
   ]
  },
  {
   "cell_type": "markdown",
   "id": "9b414c44-0d88-4526-885e-54a8d92e84cb",
   "metadata": {},
   "source": [
    "The basic options by Qiskit is 'translator' and 'synthesis'. Let's count total gate numbers, circuit depth and scores of transpiled circuit with default option ('translator') and each optimization levels"
   ]
  },
  {
   "cell_type": "code",
   "execution_count": null,
   "id": "ba72bf95-812c-44e1-add0-919beb411c7b",
   "metadata": {},
   "outputs": [],
   "source": [
    "for i in range(4):\n",
    "    print(\"Number of each gates of traspiled circuit with optimization level\", i , \"is: \")\n",
    "    pm = generate_preset_pass_manager(backend=backend, optimization_level=i, translation_method='translator', seed_transpiler=seed)\n",
    "    qc_tr = pm.run(qc)\n",
    "    score = scoring(qc_tr, backend)\n",
    "    for key, value in qc_tr.count_ops().items():\n",
    "        print(key, \":\", value)\n",
    "    print(\"The score of this transpiled circuit is:\", score)"
   ]
  },
  {
   "cell_type": "markdown",
   "id": "838b6721-0a37-4926-a09a-a43b3629c60e",
   "metadata": {},
   "source": [
    "Let's count total gate numbers, circuit depth and scores of transpiled circuit with each options and optimization_level=3"
   ]
  },
  {
   "cell_type": "code",
   "execution_count": null,
   "id": "88abac73-ba3b-4591-9909-5fb558d4a587",
   "metadata": {},
   "outputs": [],
   "source": [
    "options = ['translator', 'synthesis']\n",
    "for option in options:\n",
    "    print(\"Number of each gates of traspiled circuit with optimization level=3 and option \", option , \"is: \")\n",
    "    pm = generate_preset_pass_manager(backend=backend, optimization_level=3, translation_method=option, seed_transpiler=seed)\n",
    "    qc_tr = pm.run(qc)\n",
    "    score = scoring(qc_tr, backend)\n",
    "    for key, value in qc_tr.count_ops().items():\n",
    "        print(key, \":\", value)\n",
    "    print(\"The score of this transpiled circuit is:\", score)"
   ]
  },
  {
   "cell_type": "markdown",
   "id": "5f67bb31-95da-4e2e-b83a-272d294aaef6",
   "metadata": {},
   "source": [
    "get a graph"
   ]
  },
  {
   "cell_type": "code",
   "execution_count": null,
   "id": "de289df4-9df1-4b72-99cc-d39162cc6dfa",
   "metadata": {},
   "outputs": [],
   "source": [
    "tr_depths = []\n",
    "tr_gate_counts = []\n",
    "tr_scores = []\n",
    "\n",
    "options = ['translator', 'synthesis']\n",
    "\n",
    "for i in range(4):\n",
    "    for option in options:\n",
    "        pm = generate_preset_pass_manager(backend=backend, optimization_level=i, translation_method=option, seed_transpiler=seed) \n",
    "    \n",
    "        tr_depths.append(pm.run(qc).depth())\n",
    "        tr_gate_counts.append(sum(pm.run(qc).count_ops().values()))\n",
    "        tr_scores.append(scoring(pm.run(qc), backend))"
   ]
  },
  {
   "cell_type": "code",
   "execution_count": null,
   "id": "10aaf18e-9e4a-47bb-a73b-f4020ce14fdc",
   "metadata": {},
   "outputs": [],
   "source": [
    "colors = ['#FF6666', '#66B2FF']\n",
    "\n",
    "\n",
    "markers = [ '^', '*']\n",
    "linestyles = ['-.', ':']\n",
    "\n",
    "opt_list = []\n",
    "for i in range(4):\n",
    "    opt_list.append(f\"Optimization Level {i}\")\n",
    "\n",
    "ax = opt_list\n",
    "fig, (ax1, ax2, ax3) = plt.subplots(3, 1, figsize=(10, 12))\n",
    "\n",
    "# Plot 1: Circuit Depth\n",
    "for i in range(2):\n",
    "    ax1.plot(ax, tr_depths[i:i+4], label=options[i], marker=markers[i], markersize=9, linestyle=linestyles[i], color=colors[i], linewidth=2)\n",
    "ax1.set_xlabel(\"translation options\", fontsize=12)\n",
    "ax1.set_ylabel(\"Depth\", fontsize=12)\n",
    "ax1.set_title(\"Circuit Depth of Transpiled Circuit\", fontsize=14)\n",
    "ax1.legend(fontsize=10)\n",
    "\n",
    "# Plot 2: Total Number of Gates\n",
    "for i in range(2):\n",
    "    ax2.plot(ax, tr_gate_counts[i:i+4], label=options[i], marker=markers[i], markersize=9, linestyle=linestyles[i], color=colors[i], linewidth=2)\n",
    "ax2.set_xlabel(\"translation options\", fontsize=12)\n",
    "ax2.set_ylabel(\"# of Total Gates\", fontsize=12)\n",
    "ax2.set_title(\"Total Number of Gates of Transpiled Circuit\", fontsize=14)\n",
    "ax2.legend(fontsize=10)\n",
    "\n",
    "# Plot 3: Score of Transpiled Circuit\n",
    "for i in range(2):\n",
    "    ax3.plot(ax, tr_scores[i:i+4], label=options[i], marker=markers[i],markersize=9, linestyle=linestyles[i], color=colors[i], linewidth=2)\n",
    "ax3.set_xlabel(\"translation options\", fontsize=12)\n",
    "ax3.set_ylabel(\"Score of Transpiled Circuit\", fontsize=12)\n",
    "ax3.set_title(\"Score of Transpiled Circuit\", fontsize=14)\n",
    "ax3.legend(fontsize=10)\n",
    "\n",
    "fig.tight_layout()\n",
    "plt.show()"
   ]
  },
  {
   "cell_type": "markdown",
   "id": "c5a138aa-1931-4210-8d56-23e49f44aa3c",
   "metadata": {},
   "source": [
    "### 5 Optimization Stage\n",
    "\n",
    "Decomposing quantum circuits into the basis gate set of the target device, and the addition of swap gates needed to match hardware topology, conspire to increase the depth and gate count of quantum circuits. Fortunately many routines for optimizing circuits by combining or eliminating gates exist. In some cases these methods are so effective the output circuits have lower depth than the inputs. In other cases, not much can be done, and the computation may be difficult to perform on noisy devices. Different gate optimizations are turned on with different optimization_level values.\n",
    "\n",
    "- For optimization_level=1, this stage prepares [Optimize1qGatesDecomposition](https://docs.quantum.ibm.com/api/qiskit/qiskit.transpiler.passes.Optimize1qGatesDecomposition) and [CXCancellation](https://docs.quantum.ibm.com/api/qiskit/qiskit.transpiler.passes.CXCancellation), which combine chains of single-qubit gates and cancel any back-to-back CNOT gates.\n",
    "- For optimization_level=2, this stage uses the [CommutativeCancellation](https://docs.quantum.ibm.com/api/qiskit/qiskit.transpiler.passes.CommutativeCancellation) pass instead of `CXCancellation`, which removes redundant gates by exploiting commutation relations.\n",
    "- For optimization_level=3, this stage prepares the following passes- [Collect2qBlocks](https://docs.quantum.ibm.com/api/qiskit/qiskit.transpiler.passes.Collect2qBlocks), [ConsolidateBlocks](https://docs.quantum.ibm.com/api/qiskit/qiskit.transpiler.passes.ConsolidateBlocks), [UnitarySynthesis](https://docs.quantum.ibm.com/api/qiskit/qiskit.transpiler.passes.UnitarySynthesis), [Optimize1qGateDecomposition](https://docs.quantum.ibm.com/api/qiskit/qiskit.transpiler.passes.Optimize1qGatesDecomposition), [CommutativeCancellation](https://docs.quantum.ibm.com/api/qiskit/qiskit.transpiler.passes.CommutativeCancellation). \n",
    "Additionally, this stage also executes a few final checks to make sure that all instructions in the circuit are composed of the basis gates available on the target backend.\n",
    "\n",
    "\n",
    "At this stage, we can set-up two options:\n",
    "\n",
    "- approximation_degree (float, in the range 0-1 | None) - Heuristic dial used for circuit approximation (1.0 = no approximation, 0.0 = maximal approximation). The default value is 1.0. Specifying None sets the approximation degree to the reported error rate. See the Approximation degree section for more details.\n",
    "- optimization_method (str) - The plugin name to use for the optimization stage. By default an external plugin is not used. You can see a list of installed plugins by running list_stage_plugins() with optimization for the stage_name argument.\n",
    "\n",
    "As this stage is deeply relate to optimizing gates of circuits, let's try to plot the 1) total gate number, 2) circuit depth and score of transpiled circuit with each optimization_level with different approximation_degree values- $[ 0, 0.1, 0.2, ... ,0.9, 1]$."
   ]
  },
  {
   "cell_type": "code",
   "execution_count": null,
   "id": "a3117ff4-32c6-4e8f-ba5e-b63d8fcb78d2",
   "metadata": {},
   "outputs": [],
   "source": [
    "import numpy as np\n",
    "\n",
    "tr_depths = []\n",
    "tr_gate_counts = []\n",
    "tr_scores = []\n",
    "\n",
    "approximation_degree_list = np.linspace(0,1,10)\n",
    "\n",
    "for i in range(4):\n",
    "    for j in approximation_degree_list:\n",
    "        # your code here #\n",
    "\n",
    "\n",
    "        # your code here #"
   ]
  },
  {
   "cell_type": "code",
   "execution_count": null,
   "id": "92647a27-236c-4dce-a53b-8553cd2f1f23",
   "metadata": {},
   "outputs": [],
   "source": [
    "colors = ['#FF6666', '#FFCC66', '#99FF99', '#66B2FF']\n",
    "\n",
    "\n",
    "markers = ['o', 's', '^', '*']\n",
    "linestyles = ['-', '--', '-.', ':']\n",
    "\n",
    "ax = approximation_degree_list\n",
    "fig, (ax1, ax2, ax3) = plt.subplots(3, 1, figsize=(10, 12))\n",
    "\n",
    "# Plot 1: Circuit Depth\n",
    "for i in range(4):\n",
    "    ax1.plot(ax, tr_depths[i::4], label=f\"Optimization Level {i}\", marker=markers[i], markersize=9, linestyle=linestyles[i], color=colors[i], linewidth=2)\n",
    "ax1.set_xlabel(\"Approximation Degree\", fontsize=12)\n",
    "ax1.set_ylabel(\"Depth\", fontsize=12)\n",
    "ax1.set_title(\"Circuit Depth of Transpiled Circuit\", fontsize=14)\n",
    "ax1.legend(fontsize=10)\n",
    "\n",
    "# Plot 2: Total Number of Gates\n",
    "for i in range(4):\n",
    "    ax2.plot(ax, tr_gate_counts[i::4], label=f\"Optimization Level {i}\", marker=markers[i], markersize=9, linestyle=linestyles[i], color=colors[i], linewidth=2)\n",
    "ax2.set_xlabel(\"Approximation Degree\", fontsize=12)\n",
    "ax2.set_ylabel(\"# of Total Gates\", fontsize=12)\n",
    "ax2.set_title(\"Total Number of Gates of Transpiled Circuit\", fontsize=14)\n",
    "ax2.legend(fontsize=10)\n",
    "\n",
    "# Plot 3: Score of Transpiled Circuit\n",
    "for i in range(4):\n",
    "    ax3.plot(ax, tr_scores[i::4], label=f\"Optimization Level {i}\", marker=markers[i],markersize=9, linestyle=linestyles[i], color=colors[i], linewidth=2)\n",
    "ax3.set_xlabel(\"Approximation Degree\", fontsize=12)\n",
    "ax3.set_ylabel(\"Score of Transpiled Circuit\", fontsize=12)\n",
    "ax3.set_title(\"Score of Transpiled Circuit\", fontsize=14)\n",
    "ax3.legend(fontsize=10)\n",
    "\n",
    "fig.tight_layout()\n",
    "plt.show()"
   ]
  },
  {
   "cell_type": "markdown",
   "id": "7871376a-d02e-44df-846a-498c07de268f",
   "metadata": {},
   "source": [
    "### 6 Scheduling Stage\n",
    "\n",
    "This last stage is only run if it is explicitly called for (similar to the Init stage) and does not run by default (though a method can be specified by setting the 1scheduling_method1 argument when calling `generate_preset_pass_manager`). The scheduling stage is typically used once the circuit has been translated to the target basis, mapped to the device, and optimized. These passes focus on accounting for all the idle time in a circuit. At a high level, the scheduling pass can be thought of as explicitly inserting delay instructions to account for the idle time between gate executions and to inspect how long the circuit will be running on the backend.\n",
    "\n",
    "First, let'sc check which option we can use."
   ]
  },
  {
   "cell_type": "code",
   "execution_count": null,
   "id": "4432b76a-8b08-4be3-907a-2afddc752cab",
   "metadata": {},
   "outputs": [],
   "source": [
    "list_stage_plugins(\"scheduling\")"
   ]
  },
  {
   "cell_type": "markdown",
   "id": "f9dc83cd-9497-4a61-83a8-463ea7e51efd",
   "metadata": {},
   "source": [
    "To use scheduling options, let's first prepare `timing_constraints` which contains relevant information of backend to get the optimized pulse schedule."
   ]
  },
  {
   "cell_type": "code",
   "execution_count": null,
   "id": "b8a3687e-575c-45ab-85f0-52eda3456916",
   "metadata": {},
   "outputs": [],
   "source": [
    "backend_timing = backend.target.timing_constraints()\n",
    "timing_constraints = TimingConstraints(\n",
    "    granularity=backend_timing.granularity,\n",
    "    min_length=backend_timing.min_length,\n",
    "    pulse_alignment=backend_timing.pulse_alignment,\n",
    "    acquire_alignment=backend_timing.acquire_alignment )"
   ]
  },
  {
   "cell_type": "code",
   "execution_count": null,
   "id": "af52f511-c0dd-42cd-94ef-c175761ca96b",
   "metadata": {},
   "outputs": [],
   "source": [
    "\n",
    "# Run with optimization level 3 and 'asap' scheduling pass\n",
    "pm_asap = generate_preset_pass_manager(\n",
    "    optimization_level=3,\n",
    "    backend=backend,\n",
    "    timing_constraints=timing_constraints,\n",
    "    scheduling_method=\"asap\",\n",
    "    seed_transpiler=1000,\n",
    ")"
   ]
  },
  {
   "cell_type": "code",
   "execution_count": null,
   "id": "e74e1652-0910-4a6c-8415-44ea7f1339df",
   "metadata": {},
   "outputs": [],
   "source": [
    "my_style = {\n",
    "                'formatter.general.fig_width': 40,\n",
    "                'formatter.general.fig_unit_height': 1,\n",
    "            }\n",
    "\n",
    "draw(pm_asap.run(qc), style=IQXStandard(**my_style), show_idle=False, show_delays=True)"
   ]
  },
  {
   "cell_type": "code",
   "execution_count": null,
   "id": "e9ab99c2-c7a1-4b82-a8af-10045d633e10",
   "metadata": {},
   "outputs": [],
   "source": [
    "pm_alap = generate_preset_pass_manager(\n",
    "    optimization_level=3,\n",
    "    backend=backend,\n",
    "    timing_constraints=timing_constraints,\n",
    "    scheduling_method=\"alap\",\n",
    "    seed_transpiler=1000,\n",
    ")\n",
    "draw(pm_alap.run(qc), style=IQXStandard(**my_style), show_idle=False, show_delays=True)"
   ]
  },
  {
   "cell_type": "markdown",
   "id": "e89663c0-8818-4b22-bfe6-705d5b709e27",
   "metadata": {},
   "source": [
    "As you can see, these two circuit have a lot of delays but the position and order is different. Depends on circuit and backend, this scheduling can bring differences in performance. Let's check and compare the score of these two circuits."
   ]
  },
  {
   "cell_type": "code",
   "execution_count": null,
   "id": "58f43a87-69bc-4a39-a31e-e2b035e9937d",
   "metadata": {},
   "outputs": [],
   "source": [
    "[scoring(pm_asap.run(qc), backend), scoring(pm_alap.run(qc), backend)]"
   ]
  },
  {
   "cell_type": "markdown",
   "id": "042fa34d-da5d-4771-8f5f-85694cc6c0b9",
   "metadata": {},
   "source": [
    "<div class=\"alert alert-block alert-info\">\n",
    "Exercise 4:\n",
    "\n",
    "Make a passmanager with below options\n",
    "\n",
    "1) optimization level = 3\n",
    "2) \"sabre\" layout\n",
    "3) \"sabre\" routing\n",
    "4) \"synthesis\" translation\n",
    "   \n",
    "</div>"
   ]
  },
  {
   "cell_type": "code",
   "execution_count": null,
   "id": "c66fc960-522c-491a-a715-22a75c896ebc",
   "metadata": {},
   "outputs": [],
   "source": [
    "pm_ex4 = generate_preset_pass_manager(\n",
    "    backend=backend,\n",
    "    #your code here\n",
    "\n",
    "    #your code here\n",
    ")"
   ]
  },
  {
   "cell_type": "code",
   "execution_count": null,
   "id": "f18d9060-e380-4366-b65c-2a27404a70e0",
   "metadata": {},
   "outputs": [],
   "source": [
    "from lab2_grader import grade_lab2_ex4 \n",
    "\n",
    "grade_lab2_ex4(pm_ex4)"
   ]
  },
  {
   "cell_type": "markdown",
   "id": "86f5c03f-632d-4f96-bdd3-e0e1bfbdcf83",
   "metadata": {},
   "source": [
    "### (Extra Part) Ecosystem and Qiskit Transpiler Plugin\n",
    "\n",
    "To facilitate the development and reuse of custom transpilation code by the wider community of Qiskit users, the Qiskit SDK supports a plugin interface that enables third-party Python packages to declare that they provide extended transpilation functionality accessible via Qiskit. Currently, third-party plugins can provide extended transpilation functionality in three ways:\n",
    "\n",
    "- [A transpiler stage plugin](https://docs.quantum.ibm.com/api/qiskit/transpiler_plugins) provides a pass manager that can be used in place of one of the 6 stages of a preset staged pass manager: init, layout, routing, translation, optimization, and scheduling. \n",
    "- [A unitary synthesis plugin](https://docs.quantum.ibm.com/api/qiskit/qiskit.transpiler.passes.synthesis.plugin.UnitarySynthesisPlugin) provides extended functionality for unitary gate synthesis.\n",
    "- [A high-level synthesis plugin](https://docs.quantum.ibm.com/api/qiskit/qiskit.transpiler.passes.synthesis.plugin.HighLevelSynthesisPlugin) provides extended functionality for synthesizing \"high-level objects\" such as linear functions or Clifford operators. High-level objects are represented by subclasses of the [Operation](https://docs.quantum.ibm.com/api/qiskit/qiskit.circuit.Operation) class.\n",
    "\n",
    "\n",
    "Refer [this page](https://docs.quantum.ibm.com/transpile/transpiler-plugins) for more informations including how to install new ones, and use them.\n",
    "\n",
    "Also, you can be a `contributor` of these plugins! Creating a transpiler plugin is a great way to share your transpilation code with the wider Qiskit community, allowing other users to benefit from the functionality you've developed. [Here](https://docs.quantum.ibm.com/transpile/create-a-transpiler-plugin) you can find guidlines and instructions about how to contribute to Qiskit Community by providing nice transpiler plugins."
   ]
  },
  {
   "cell_type": "markdown",
   "id": "feec7100-170c-4faf-8bec-93f7b0e22219",
   "metadata": {},
   "source": [
    "## 3. Build your own Pass Managers with Staged Pass Manager\n",
    "\n",
    "One of the powerful feature of qiskit1.0 transpiler is the \"flexibility\". It allows you compose a `PassManager` only has two stages or 3 stages. Also it allows you put your own `Pass` at desired stages. \n",
    "\n",
    "#### Make a function that returns `Dynamic Decoupling` Pass\n",
    "\n",
    "Here, we will try to build a custom `scheduling` pass to perform a `Dynamic Decoupling`, which works by adding pulse sequences (known as dynamical decoupling sequences) to idle qubits to flip them around the Bloch sphere, which cancels the effect of noise channels, thereby suppressing decoherence. These pulse sequences are similar to refocusing pulses used in nuclear magnetic resonance. For a full description, see [A Quantum Engineer's Guide to Superconducting Qubits](https://arxiv.org/abs/1904.06560). For your better understanding, here you can learn by `Nick Bronn` what is the dynamic decoupling - https://www.youtube.com/watch?v=67jRWQuW3Fk. To finish this part, you many want to take a look at [this official documentation about creading a dynamic decoupling pass](https://docs.quantum.ibm.com/transpile/dynamical-decoupling-pass-manager) and [this documentation](https://docs.quantum.ibm.com/transpile/dynamical-decoupling-pass-manager).\n",
    "\n",
    "We will use same quantum circuit that we've been used before. A dynamical decoupling sequence is a series of gates that compose to the identity and are spaced regularly in time. For example, start by creating a simple sequence called XY4 consisting of four gates."
   ]
  },
  {
   "cell_type": "code",
   "execution_count": null,
   "id": "23547853-16a3-40fd-ad87-a5ab538a8164",
   "metadata": {},
   "outputs": [],
   "source": [
    "from qiskit.circuit.library import XGate, YGate\n",
    " \n",
    "X = XGate()\n",
    "Y = YGate()\n",
    " \n",
    "dd_sequence = [X, Y, X, Y]"
   ]
  },
  {
   "cell_type": "markdown",
   "id": "b24db346-b8c5-4f78-bf49-3f45149ed019",
   "metadata": {},
   "source": [
    "Because of the regular timing of dynamical decoupling sequences, information about the YGate must be added to the target because it is not a basis gate, whereas the XGate is. We know a priori that the YGate has the same duration and error as the XGate, however, so we can just retrieve those properties from the target and add them back for the YGates. This is also why the basis_gates were saved separately, since we are adding the YGate instruction to the target although it is not an actual basis gate of our backend - ibm_torino."
   ]
  },
  {
   "cell_type": "code",
   "execution_count": null,
   "id": "322b1ee1-da0b-404c-ac58-eb9c98cd5ffc",
   "metadata": {},
   "outputs": [],
   "source": [
    "from qiskit.transpiler import InstructionProperties\n",
    "from qiskit.transpiler.passes.scheduling import (\n",
    "    ASAPScheduleAnalysis,\n",
    "    PadDynamicalDecoupling,\n",
    ")\n",
    "from qiskit.transpiler import PassManager\n",
    "\n",
    "backend=FakeTorino()\n",
    "\n",
    "target = backend.target\n",
    "\n",
    "y_gate_properties = {}\n",
    "for qubit in range(target.num_qubits):\n",
    "    y_gate_properties.update(\n",
    "        {\n",
    "            (qubit,): InstructionProperties(\n",
    "                duration=target[\"x\"][(qubit,)].duration,\n",
    "                error=target[\"x\"][(qubit,)].error,\n",
    "            )\n",
    "        }\n",
    "    )\n",
    " \n",
    "target.add_instruction(YGate(), y_gate_properties)"
   ]
  },
  {
   "cell_type": "markdown",
   "id": "c0129f62-3355-45a7-bdee-ed3f4e1b6c0b",
   "metadata": {},
   "source": [
    "Next, execute the custom passes. Instantiate the PassManager with `ALAPScheduleAnalysi`s and `PadDynamicalDecoupling`. Run `ASAPScheduleAnalysis` first to add timing information about the quantum circuit before the regularly-spaced dynamical decoupling sequences can be added. These pass\\es are run on the circuit with .run()."
   ]
  },
  {
   "cell_type": "code",
   "execution_count": null,
   "id": "b3253737-730c-4922-87ae-5d8c22b74719",
   "metadata": {},
   "outputs": [],
   "source": [
    "dd_pm = PassManager(\n",
    "    [\n",
    "        ## your code here\n",
    "\n",
    "        ## your code here\n",
    "        \n",
    "    ]\n",
    ")"
   ]
  },
  {
   "cell_type": "markdown",
   "id": "8964f016-bcd3-46ac-97d0-76ff52ca8f21",
   "metadata": {},
   "source": [
    "And let's see how it works by comparing it with a `Timing` of `asap` scheduling option. First, let's bring the timing drawing from above.\n"
   ]
  },
  {
   "cell_type": "code",
   "execution_count": null,
   "id": "bd96def6-31fc-4cec-a0e1-e33f14cc29e5",
   "metadata": {},
   "outputs": [],
   "source": [
    "draw(pm_asap.run(qc), style=IQXStandard(**my_style), show_idle=False, show_delays=True)"
   ]
  },
  {
   "cell_type": "markdown",
   "id": "1ab5b44d-6863-4e65-aa0f-1403e6a05bb4",
   "metadata": {},
   "source": [
    "Now, let's make a custom scheduling `Pass` by using the function we've created."
   ]
  },
  {
   "cell_type": "markdown",
   "id": "3bb39b5e-717a-4844-87e1-35ce48131b1d",
   "metadata": {},
   "source": [
    "for using this new `scheduling pass` we will use `StagedPassManager`. We can make a PassManager that only have 1 pass. After making a custom staged PassManager, we will apply this to the transpiled circuit by pm_asap, that we already made above. "
   ]
  },
  {
   "cell_type": "code",
   "execution_count": null,
   "id": "bd5a1de6-5a79-4ba2-b094-cb86d8204589",
   "metadata": {},
   "outputs": [],
   "source": [
    "staged_pm_dd = StagedPassManager(\n",
    "    stages=[\"scheduling\"], \n",
    "    scheduling=dd_pm\n",
    ")"
   ]
  },
  {
   "cell_type": "code",
   "execution_count": null,
   "id": "3a4372c1-ee09-4ff3-9f39-803c18632af6",
   "metadata": {},
   "outputs": [],
   "source": [
    "qc_tr = pm_asap.run(qc)\n",
    "draw(staged_pm_dd.run(qc_tr), style=IQXStandard(**my_style), show_idle=False, show_delays=True)"
   ]
  },
  {
   "cell_type": "markdown",
   "id": "3d17146e-e94c-4a53-a6f5-9b04bef0fa4a",
   "metadata": {},
   "source": [
    "<div class=\"alert alert-block alert-info\">\n",
    "Exercise 5:\n",
    "\n",
    "Submit the PassManager you made which only has 1 pass - the scheduling pass.\n",
    "</div>"
   ]
  },
  {
   "cell_type": "code",
   "execution_count": null,
   "id": "e81e3eca-949b-4903-a0fe-b832cdd634f8",
   "metadata": {},
   "outputs": [],
   "source": [
    "from lab2_grader import grade_lab2_ex5 \n",
    "\n",
    "grade_lab2_ex5(staged_pm_dd)"
   ]
  },
  {
   "cell_type": "markdown",
   "id": "16ea8af9-c333-4f70-8ef7-c4b990990876",
   "metadata": {},
   "source": [
    "<div class=\"alert alert-block alert-info\">\n",
    "- Lab Version: 0.1 <br>\n",
    "- Date: 13 May 2024\n",
    "</div>\n",
    "\n"
   ]
  },
  {
   "cell_type": "code",
   "execution_count": null,
   "id": "d03ed8fc-dd50-4eb1-81c8-61f1b58253e8",
   "metadata": {},
   "outputs": [],
   "source": []
  }
 ],
 "metadata": {
  "kernelspec": {
   "display_name": "Python 3 (ipykernel)",
   "language": "python",
   "name": "python3"
  },
  "language_info": {
   "codemirror_mode": {
    "name": "ipython",
    "version": 3
   },
   "file_extension": ".py",
   "mimetype": "text/x-python",
   "name": "python",
   "nbconvert_exporter": "python",
   "pygments_lexer": "ipython3",
   "version": "3.10.9"
  }
 },
 "nbformat": 4,
 "nbformat_minor": 5
}
